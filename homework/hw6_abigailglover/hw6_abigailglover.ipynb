{
 "cells": [
  {
   "cell_type": "code",
   "execution_count": 6,
   "id": "81914453-f2fd-49d3-944e-0037b57dd2a5",
   "metadata": {},
   "outputs": [],
   "source": [
    "# Abigail Glover\n",
    "# October 9, 2023\n",
    "# HW 6"
   ]
  },
  {
   "cell_type": "code",
   "execution_count": 12,
   "id": "69e01561-fe47-42cc-970d-93f325b7246b",
   "metadata": {},
   "outputs": [
    {
     "name": "stdout",
     "output_type": "stream",
     "text": [
      "Problem 2\n",
      "What is the SNR if you take ten 5-second exposures?\n",
      "How about when taking just one 50-second integration?\n",
      "Which is better and why?\n",
      "What are some other practical considerations (pro or con) besides just the hypothetical SNR?\n",
      "Note that the CCD Equation in Howell is for calculating one frame’s SNR.\n",
      "How would you modify it for multiple exposures?\n"
     ]
    }
   ],
   "source": [
    "# Import libraries\n",
    "import numpy as np\n",
    "from astropy.io import fits\n",
    "import rdpharo_win\n",
    "import os\n",
    "import sys\n",
    "import random\n",
    "\n",
    "# Print problem statement\n",
    "print('Problem 2')\n",
    "\n",
    "# Print questions statements from the homework assignment\n",
    "print('What is the SNR if you take ten 5-second exposures?')\n",
    "\n",
    "\n",
    "print('How about when taking just one 50-second integration?')\n",
    "\n",
    "\n",
    "print('Which is better and why?')\n",
    "\n",
    "\n",
    "print('What are some other practical considerations (pro or con) besides just the hypothetical SNR?')\n",
    "print('Note that the CCD Equation in Howell is for calculating one frame’s SNR.')\n",
    "\n",
    "\n",
    "print('How would you modify it for multiple exposures?')\n",
    "\n"
   ]
  },
  {
   "cell_type": "code",
   "execution_count": 8,
   "id": "77101959-5af1-4261-b197-e20a4ac67490",
   "metadata": {},
   "outputs": [
    {
     "name": "stdout",
     "output_type": "stream",
     "text": [
      "Problem 3\n",
      "Part a.)\n",
      "\n",
      "Data directory name assigned.\n",
      "FITS extension assigned to variable\n"
     ]
    }
   ],
   "source": [
    "# Print problem statement\n",
    "print('Problem 3')\n",
    "print('Part a.)')\n",
    "\n",
    "# Data directory name\n",
    "datadir = \"hw6_data/\"\n",
    "\n",
    "# FITS extension string (including the dot, e.g., \".fits\")\n",
    "fext = \".fits\"\n",
    "\n",
    "# Print statement to let user know what has been done\n",
    "print('\\nData directory name assigned.')\n",
    "print('FITS extension assigned to variable')"
   ]
  },
  {
   "cell_type": "code",
   "execution_count": 9,
   "id": "f7f18dcd-ba0b-4cdb-bbc8-65db5cd652da",
   "metadata": {},
   "outputs": [
    {
     "name": "stdout",
     "output_type": "stream",
     "text": [
      "\n",
      "Part b.)\n",
      "\n",
      "Files have been sorted.\n"
     ]
    }
   ],
   "source": [
    "# Print problem statement\n",
    "print('\\nPart b.)\\n')\n",
    "\n",
    "# Initialize empty lists for objects and darks\n",
    "objfile = []\n",
    "darkfile = []\n",
    "\n",
    "# List all files in the data directory\n",
    "file_list = os.listdir(datadir)\n",
    "\n",
    "# Iterate through the file names and categorize them\n",
    "for file_name in file_list:\n",
    "    \n",
    "    # Check if the file starts with \"stars_13s_\"\n",
    "    if file_name.startswith(\"stars_13s_\"):\n",
    "        \n",
    "        # Remove the \".fits\" extension and add to the objects list\n",
    "        objfile.append(file_name.replace(fext, \"\"))\n",
    "        \n",
    "    # Check if the file starts with \"dark_13s_\"\n",
    "    elif file_name.startswith(\"dark_13s_\"):\n",
    "        \n",
    "        # Remove the \".fits\" extension and add to the darks list\n",
    "        darkfile.append(file_name.replace(fext, \"\"))\n",
    "\n",
    "# Print the lists (as a check to make sure they were correctly sorted)\n",
    "#print(\"Object Files:\")\n",
    "#print(objfile)\n",
    "#print(\"\\nDark Files:\")\n",
    "#print(darkfile)\n",
    "\n",
    "# Print statement to let user know what has been done\n",
    "print('Files have been sorted.')"
   ]
  },
  {
   "cell_type": "code",
   "execution_count": 10,
   "id": "14cdbcca-30cb-4a5d-9fda-973a439ff93e",
   "metadata": {},
   "outputs": [
    {
     "name": "stdout",
     "output_type": "stream",
     "text": [
      "\n",
      "Part c.)\n",
      "\n",
      "Data directory name: hw6_data/\n",
      "FITS extension string: .fits\n",
      "Last object file: stars_13s_9\n",
      "Last dark file: dark_13s_5\n"
     ]
    }
   ],
   "source": [
    "# Print problem statement\n",
    "print('\\nPart c.)\\n')\n",
    "\n",
    "# Print informative statements\n",
    "print(\"Data directory name: \" + datadir)\n",
    "print(\"FITS extension string: \" + fext)\n",
    "\n",
    "# Print the last elements of objfile and darkfile\n",
    "if objfile:\n",
    "    print(\"Last object file: \" + objfile[-1])\n",
    "else:\n",
    "    print(\"No object files found.\")\n",
    "if darkfile:\n",
    "    print(\"Last dark file: \" + darkfile[-1])\n",
    "else:\n",
    "    print(\"No dark files found.\")"
   ]
  },
  {
   "cell_type": "code",
   "execution_count": 28,
   "id": "416c7a69-9c99-4d14-b12c-a2b6e89f9c92",
   "metadata": {},
   "outputs": [
    {
     "name": "stdout",
     "output_type": "stream",
     "text": [
      "\n",
      "Part d.)\n",
      "\n",
      "Data array sizes have been determined.\n",
      "\n"
     ]
    }
   ],
   "source": [
    "# Print problem statement\n",
    "print('\\nPart d.)\\n')\n",
    "\n",
    "# Choose a random file\n",
    "random_object_file = random.choice(objfile)\n",
    "\n",
    "# Construct the full path to the random file\n",
    "random_object_file_path = os.path.join(datadir, random_object_file + \".fits\")\n",
    "\n",
    "# Use rdpharo_win to read the data and header\n",
    "header, data = rdpharo_win.rdpharo(random_object_file_path)\n",
    "\n",
    "# Unpack the data from the array\n",
    "ny, nx = data.shape[0], data.shape[1]\n",
    "\n",
    "# Question does not ask for print statements \n",
    "# Print a statement letting user know it was successfully ran\n",
    "print('Data array sizes have been determined.\\n')"
   ]
  },
  {
   "cell_type": "code",
   "execution_count": 29,
   "id": "020967dd-3aeb-4cb2-9b8f-bd5775e11e2d",
   "metadata": {},
   "outputs": [
    {
     "name": "stdout",
     "output_type": "stream",
     "text": [
      "\n",
      "Part e.)\n",
      "\n",
      "Data array size (ny): 1024\n",
      "Data array size (nx): 1024\n",
      "Number of files in objfile: 9\n",
      "Number of files in darkfile: 5\n"
     ]
    }
   ],
   "source": [
    "# Print problem statement\n",
    "print('\\nPart e.)\\n')\n",
    "\n",
    "# Define variables\n",
    "nobj = len(objfile)\n",
    "ndark = len(darkfile)\n",
    "\n",
    "# print ny, nx, nobj, and ndark\n",
    "print(f\"Data array size (ny): {ny}\")\n",
    "print(f\"Data array size (nx): {nx}\")\n",
    "print(f\"Number of files in objfile: {nobj}\")\n",
    "print(f\"Number of files in darkfile: {ndark}\")"
   ]
  },
  {
   "cell_type": "code",
   "execution_count": null,
   "id": "5e52b008-9a4d-44b4-be2f-c7a56cf42952",
   "metadata": {},
   "outputs": [],
   "source": [
    "\n"
   ]
  },
  {
   "cell_type": "code",
   "execution_count": null,
   "id": "b0712a87-df42-4545-ad6b-bf88eca66db2",
   "metadata": {},
   "outputs": [],
   "source": []
  }
 ],
 "metadata": {
  "kernelspec": {
   "display_name": "Python 3 (ipykernel)",
   "language": "python",
   "name": "python3"
  },
  "language_info": {
   "codemirror_mode": {
    "name": "ipython",
    "version": 3
   },
   "file_extension": ".py",
   "mimetype": "text/x-python",
   "name": "python",
   "nbconvert_exporter": "python",
   "pygments_lexer": "ipython3",
   "version": "3.11.4"
  }
 },
 "nbformat": 4,
 "nbformat_minor": 5
}
