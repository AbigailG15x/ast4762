{
 "cells": [
  {
   "cell_type": "code",
   "execution_count": 43,
   "id": "c3b97089-089a-43f5-8853-586e4e2a9d7d",
   "metadata": {},
   "outputs": [
    {
     "name": "stdout",
     "output_type": "stream",
     "text": [
      "Problem 1\n",
      "Part a.)\n",
      "\n",
      "The mean of the array is: 9915.34\n",
      "The median of the array is: 10010.00\n",
      "\n",
      "Which is closer to N?\n",
      "The mean is closer to a normal distribution than the median.\n"
     ]
    }
   ],
   "source": [
    "# Abigail Glover\n",
    "# September 26, 2023\n",
    "# HW 5 - Probability and Error Analysis\n",
    "\n",
    "#########################################\n",
    "\n",
    "import numpy as np\n",
    "from scipy.stats import norm\n",
    "import matplotlib.pyplot as plt\n",
    "\n",
    "# Problem 1\n",
    "print('Problem 1')\n",
    "print('Part a.)')\n",
    "\n",
    "# Generate samples from a Poisson distribution\n",
    "poisson_samples = np.random.poisson(lam = 10000, size = 396)\n",
    "\n",
    "# Generate 4 samples from a uniform distribution between 0 and 106\n",
    "uniform_samples = np.random.uniform(0, 106, size=4)\n",
    "\n",
    "# Combine the two array\n",
    "result_array = np.concatenate((poisson_samples, uniform_samples))\n",
    "\n",
    "# Print the result to check (comment out when not using)\n",
    "#print(result_array)\n",
    "\n",
    "# Print the mean and median of the sample \n",
    "mean = np.mean(result_array)\n",
    "print(f'\\nThe mean of the array is: {mean:.2f}')\n",
    "\n",
    "median = np.median(result_array)\n",
    "print(f'The median of the array is: {median:.2f}')\n",
    "\n",
    "#Which is closer to N?\n",
    "print('\\nWhich is closer to N?')\n",
    "\n",
    "# Calculate sample size\n",
    "sample_size = len(result_array)\n",
    "\n",
    "# Calculate the standard deviation of the sample\n",
    "std_dev = np.std(result_array)\n",
    "\n",
    "# Calculate the expected mean and median of a normal distribution\n",
    "expected_mean = sample_size / 2  # Expected mean of a uniform distribution\n",
    "expected_median = norm.ppf(0.5) * std_dev  # Expected median of a normal distribution\n",
    "\n",
    "# Calculate the absolute differences\n",
    "mean_difference = abs(mean - expected_mean)\n",
    "median_difference = abs(median - expected_median)\n",
    "\n",
    "# Determine which is closer to a normal distribution\n",
    "if mean_difference < median_difference:\n",
    "    print(\"The mean is closer to a normal distribution than the median.\")\n",
    "else:\n",
    "    print(\"The median is closer to a normal distribution than the mean.\")\n"
   ]
  },
  {
   "cell_type": "code",
   "execution_count": 49,
   "id": "f15cd668-1d03-4a46-b9e0-92894fc4ca60",
   "metadata": {},
   "outputs": [
    {
     "name": "stdout",
     "output_type": "stream",
     "text": [
      "Part b.)\n",
      "\n",
      "The standard deviation of the sample is:  992.42\n",
      "\n",
      "The mean of the subsample is: 10014.59\n",
      "The median of the subsample is: 10012.50\n",
      "The standard deviation of the subsample is: 98.96\n"
     ]
    }
   ],
   "source": [
    "print('Part b.)')\n",
    "print(f'\\nThe standard deviation of the sample is: {std_dev: .2f}')\n",
    "\n",
    "# Define the lower and upper bounds for the subsample\n",
    "lower_bound = median - 5 * std_dev\n",
    "upper_bound = median + 5 * std_dev\n",
    "\n",
    "# Create a boolean mask for selecting elements within the bounds\n",
    "within_bounds = (result_array >= lower_bound) & (result_array <= upper_bound)\n",
    "\n",
    "# Create the subsample by applying the boolean mask\n",
    "subsample = result_array[within_bounds]\n",
    "\n",
    "# Calculate the mean, median, and standard deviation of the subsample\n",
    "mean_subsample = np.mean(subsample)\n",
    "median_subsample = np.median(subsample)\n",
    "std_dev_subsample = np.std(subsample)\n",
    "\n",
    "# Print the results\n",
    "print(f'\\nThe mean of the subsample is: {mean_subsample:.2f}')\n",
    "print(f'The median of the subsample is: {median_subsample:.2f}')\n",
    "print(f'The standard deviation of the subsample is: {std_dev_subsample:.2f}')"
   ]
  },
  {
   "cell_type": "code",
   "execution_count": null,
   "id": "67ab2bf3-f93d-430d-97b8-b1ef0f5ec481",
   "metadata": {},
   "outputs": [],
   "source": []
  }
 ],
 "metadata": {
  "kernelspec": {
   "display_name": "Python 3 (ipykernel)",
   "language": "python",
   "name": "python3"
  },
  "language_info": {
   "codemirror_mode": {
    "name": "ipython",
    "version": 3
   },
   "file_extension": ".py",
   "mimetype": "text/x-python",
   "name": "python",
   "nbconvert_exporter": "python",
   "pygments_lexer": "ipython3",
   "version": "3.11.4"
  }
 },
 "nbformat": 4,
 "nbformat_minor": 5
}
