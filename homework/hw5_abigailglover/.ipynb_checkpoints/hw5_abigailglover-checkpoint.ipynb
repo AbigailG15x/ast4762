{
 "cells": [
  {
   "cell_type": "code",
   "execution_count": null,
   "id": "c3b97089-089a-43f5-8853-586e4e2a9d7d",
   "metadata": {},
   "outputs": [],
   "source": [
    "# Abigail Glover\n",
    "# September 26, 2023\n",
    "# HW 5 - Probability and Error Analysis\n",
    "\n"
   ]
  }
 ],
 "metadata": {
  "kernelspec": {
   "display_name": "Python 3 (ipykernel)",
   "language": "python",
   "name": "python3"
  },
  "language_info": {
   "codemirror_mode": {
    "name": "ipython",
    "version": 3
   },
   "file_extension": ".py",
   "mimetype": "text/x-python",
   "name": "python",
   "nbconvert_exporter": "python",
   "pygments_lexer": "ipython3",
   "version": "3.11.4"
  }
 },
 "nbformat": 4,
 "nbformat_minor": 5
}
