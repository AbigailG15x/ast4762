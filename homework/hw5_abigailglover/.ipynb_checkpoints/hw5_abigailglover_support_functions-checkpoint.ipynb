{
 "cells": [
  {
   "cell_type": "code",
   "execution_count": null,
   "id": "3ea20165-ab49-4742-8dc2-2f034f912946",
   "metadata": {},
   "outputs": [],
   "source": [
    "\"\"\"\n",
    "This function performs sigma rejection on a dataset.\n",
    "\n",
    "The function takes an array containing the data set \n",
    "as an input, a tuple of rejection limits that gives \n",
    "the number of standard deviations for each iteration, \n",
    "and an optional Boolean mask that has the same shape\n",
    "as the data and indicates which data points are good.\n",
    "\n",
    "\n",
    "Parameters\n",
    "-------------------\n",
    "    - data: The input data array.\n",
    "    - rejection_limits: A tuple of rejection limits for each iteration.\n",
    "    - mask: An optional Boolean mask indicating which data points are good.\n",
    "\n",
    "    Returns:\n",
    "    - Modified mask after sigma rejection.\n",
    "    \"\"\"\n",
    "def sigrej(data, rejection_limits, mask=None):\n",
    "    \n",
    "    if mask is None:\n",
    "        mask = np.ones_like(data, dtype=bool)  # All data points are initially considered good\n",
    "\n",
    "    for limit in rejection_limits:\n",
    "        # Calculate mean and standard deviation of the current data points with the mask\n",
    "        mean = np.mean(data[mask])\n",
    "        std_dev = np.std(data[mask])\n",
    "\n",
    "        # Calculate the absolute deviation from the mean\n",
    "        abs_deviation = np.abs(data - mean)\n",
    "\n",
    "        # Flag data points as bad (False) if they are beyond the rejection limit\n",
    "        mask = mask & (abs_deviation <= limit * std_dev)\n",
    "\n",
    "    return mask\n",
    "\n",
    "# Example usage:\n",
    "import numpy as np\n",
    "\n",
    "# Generate some example data\n",
    "data = np.array([10, 11, 12, 8, 9, 10, 11, 8, 9, 1000])\n",
    "\n",
    "# Apply sigma rejection with rejection limits (5.0, 5.0)\n",
    "rejected_mask = sigrej(data, (5.0, 5.0))\n",
    "\n",
    "# Print the modified mask\n",
    "print(\"Modified Mask (True=Good, False=Bad):\", rejected_mask)"
   ]
  }
 ],
 "metadata": {
  "kernelspec": {
   "display_name": "Python 3 (ipykernel)",
   "language": "python",
   "name": "python3"
  },
  "language_info": {
   "codemirror_mode": {
    "name": "ipython",
    "version": 3
   },
   "file_extension": ".py",
   "mimetype": "text/x-python",
   "name": "python",
   "nbconvert_exporter": "python",
   "pygments_lexer": "ipython3",
   "version": "3.11.4"
  }
 },
 "nbformat": 4,
 "nbformat_minor": 5
}
