{
 "cells": [
  {
   "cell_type": "code",
   "execution_count": 8,
   "id": "ef055bd9-9957-4ac9-a2c2-efa700a16b92",
   "metadata": {},
   "outputs": [
    {
     "name": "stdin",
     "output_type": "stream",
     "text": [
      "Enter a scalar or an array:  np.array([1, 2, 3, 4, 5])\n"
     ]
    },
    {
     "name": "stdout",
     "output_type": "stream",
     "text": [
      "Result: [ 1  4  9 16 25]\n"
     ]
    }
   ],
   "source": [
    "# This is my square function\n",
    "\n",
    "# This function takes as input a scalar or array of \n",
    "# any dimension or numerical type and returns its\n",
    "# square\n",
    "\n",
    "# Import numpy library\n",
    "import numpy as np\n",
    "\n",
    "# Define the function\n",
    "def square(input_value):\n",
    "\n",
    "    # Because I am using numpy, integers and floating numbers\n",
    "    # include a wide range of numeric type\n",
    "    \n",
    "    # To further include numbers such as fractions or complex\n",
    "    # numbers, the associated libraries would need to be added\n",
    "\n",
    "    # Determine if the input value is an integer\n",
    "    if isinstance(input_value, (int, float)):\n",
    "\n",
    "        # Square the integer\n",
    "        return input_value ** 2\n",
    "\n",
    "    # Determine if the input value is an array\n",
    "    # elif checks if previous condition is not met to continue forward\n",
    "    elif isinstance(input_value, np.ndarray):\n",
    "\n",
    "        # Square the array\n",
    "        return np.square(input_value)\n",
    "\n",
    "    # If neither an integer or array are entered, let the user know\n",
    "    else:\n",
    "        raise ValueError(\"Input must be a scalar or an array.\")\n",
    "    "
   ]
  },
  {
   "cell_type": "code",
   "execution_count": null,
   "id": "f2836920-0fcd-4bf5-a822-ba8dfd885ac9",
   "metadata": {},
   "outputs": [],
   "source": []
  }
 ],
 "metadata": {
  "kernelspec": {
   "display_name": "Python 3 (ipykernel)",
   "language": "python",
   "name": "python3"
  },
  "language_info": {
   "codemirror_mode": {
    "name": "ipython",
    "version": 3
   },
   "file_extension": ".py",
   "mimetype": "text/x-python",
   "name": "python",
   "nbconvert_exporter": "python",
   "pygments_lexer": "ipython3",
   "version": "3.11.4"
  }
 },
 "nbformat": 4,
 "nbformat_minor": 5
}
