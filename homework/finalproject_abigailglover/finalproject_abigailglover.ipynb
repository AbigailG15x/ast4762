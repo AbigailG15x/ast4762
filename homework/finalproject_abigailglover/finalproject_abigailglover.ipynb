{
 "cells": [
  {
   "cell_type": "code",
   "execution_count": null,
   "id": "3ef1c766-f4f9-419c-9642-d45a0f5f5011",
   "metadata": {},
   "outputs": [],
   "source": [
    "# Abigail Glover\n",
    "# ast4762\n",
    "# Final Project"
   ]
  },
  {
   "cell_type": "code",
   "execution_count": 9,
   "id": "04afae07-bcaf-4b3b-a105-16c91694515a",
   "metadata": {},
   "outputs": [],
   "source": [
    "# Import libraries\n",
    "import numpy as np\n",
    "import astropy.io as fits\n",
    "import os\n",
    "import finalproject_abigailglover_support_functions as SF\n",
    "import matplotlib.pyplot as plt"
   ]
  },
  {
   "cell_type": "code",
   "execution_count": 15,
   "id": "e99bcb2b-503e-4943-806e-2ab523caa817",
   "metadata": {},
   "outputs": [],
   "source": [
    "# Problem 3 - Define variables\n",
    "\n",
    "# Data information\n",
    "current_folder = os.getcwd()\n",
    "data_path = os.path.join(current_folder, \"data\")\n",
    "\n",
    "# Indexing array variables\n",
    "\n",
    "# Sub array set numbers\n",
    "start_set_number = 2  \n",
    "number_of_sets = 3 "
   ]
  },
  {
   "cell_type": "code",
   "execution_count": 16,
   "id": "4707b626-fc4f-479d-8320-0987a63ae6b7",
   "metadata": {},
   "outputs": [
    {
     "name": "stdout",
     "output_type": "stream",
     "text": [
      "Problem 5\n"
     ]
    },
    {
     "ename": "AttributeError",
     "evalue": "'NoneType' object has no attribute 'shape'",
     "output_type": "error",
     "traceback": [
      "\u001b[1;31m---------------------------------------------------------------------------\u001b[0m",
      "\u001b[1;31mAttributeError\u001b[0m                            Traceback (most recent call last)",
      "Cell \u001b[1;32mIn[16], line 13\u001b[0m\n\u001b[0;32m     10\u001b[0m end_set \u001b[38;5;241m=\u001b[39m \u001b[38;5;241m686\u001b[39m\n\u001b[0;32m     12\u001b[0m \u001b[38;5;66;03m# Run the routine\u001b[39;00m\n\u001b[1;32m---> 13\u001b[0m \u001b[43mSF\u001b[49m\u001b[38;5;241;43m.\u001b[39;49m\u001b[43mread_and_extract_data\u001b[49m\u001b[43m(\u001b[49m\u001b[43mdata_path\u001b[49m\u001b[43m,\u001b[49m\u001b[43mstart_set\u001b[49m\u001b[43m,\u001b[49m\u001b[43m \u001b[49m\u001b[43mend_set\u001b[49m\u001b[43m)\u001b[49m\n\u001b[0;32m     15\u001b[0m \u001b[38;5;66;03m# Display the results using imshow()\u001b[39;00m\n\u001b[0;32m     16\u001b[0m plt\u001b[38;5;241m.\u001b[39mimshow(data_cube, cmap\u001b[38;5;241m=\u001b[39m\u001b[38;5;124m'\u001b[39m\u001b[38;5;124mviridis\u001b[39m\u001b[38;5;124m'\u001b[39m) \n",
      "File \u001b[1;32m~\\Desktop\\ast4762\\Homework\\finalproject_abigailglover\\finalproject_abigailglover_support_functions.py:107\u001b[0m, in \u001b[0;36mread_and_extract_data\u001b[1;34m(folder_path, start_set, num_sets)\u001b[0m\n\u001b[0;32m    102\u001b[0m frame_params_array \u001b[38;5;241m=\u001b[39m np\u001b[38;5;241m.\u001b[39marray(\n\u001b[0;32m    103\u001b[0m     [(params[\u001b[38;5;124m\"\u001b[39m\u001b[38;5;124mframe_number\u001b[39m\u001b[38;5;124m\"\u001b[39m], params[\u001b[38;5;124m\"\u001b[39m\u001b[38;5;124mobs_time\u001b[39m\u001b[38;5;124m\"\u001b[39m]) \u001b[38;5;28;01mfor\u001b[39;00m params \u001b[38;5;129;01min\u001b[39;00m frame_params_list],\n\u001b[0;32m    104\u001b[0m     dtype\u001b[38;5;241m=\u001b[39m[(\u001b[38;5;124m\"\u001b[39m\u001b[38;5;124mframe_number\u001b[39m\u001b[38;5;124m\"\u001b[39m, \u001b[38;5;28mint\u001b[39m), (\u001b[38;5;124m\"\u001b[39m\u001b[38;5;124mobs_time\u001b[39m\u001b[38;5;124m\"\u001b[39m, \u001b[38;5;28mobject\u001b[39m)])  \u001b[38;5;66;03m# Adjust the dtype as needed\u001b[39;00m\n\u001b[0;32m    106\u001b[0m \u001b[38;5;66;03m# Print the shape of arrays\u001b[39;00m\n\u001b[1;32m--> 107\u001b[0m \u001b[38;5;28mprint\u001b[39m(\u001b[38;5;124m\"\u001b[39m\u001b[38;5;124mShape of 3D data cube:\u001b[39m\u001b[38;5;124m\"\u001b[39m, \u001b[43mdata_cube\u001b[49m\u001b[38;5;241;43m.\u001b[39;49m\u001b[43mshape\u001b[49m)\n\u001b[0;32m    108\u001b[0m \u001b[38;5;28mprint\u001b[39m(\u001b[38;5;124m\"\u001b[39m\u001b[38;5;124mShape of frame parameters array:\u001b[39m\u001b[38;5;124m\"\u001b[39m, frame_params_array\u001b[38;5;241m.\u001b[39mshape)\n",
      "\u001b[1;31mAttributeError\u001b[0m: 'NoneType' object has no attribute 'shape'"
     ]
    }
   ],
   "source": [
    "# Problem 5\n",
    "print('Problem 5')\n",
    "\n",
    "# Set this variable to True to run the routine\n",
    "run_routine = True\n",
    "\n",
    "if run_routine:\n",
    "    # Specify the subarray sets\n",
    "    start_set = 187\n",
    "    end_set = 686\n",
    "\n",
    "    # Run the routine\n",
    "    SF.read_and_extract_data(data_path,start_set, end_set)\n",
    "\n",
    "    # Display the results using imshow()\n",
    "    plt.imshow(data_cube, cmap='viridis') \n",
    "    plt.title(\"Visualization of Data Cube\")\n",
    "    plt.show()"
   ]
  },
  {
   "cell_type": "code",
   "execution_count": null,
   "id": "1872fba7-d326-4d8a-93da-48d8eb31829f",
   "metadata": {},
   "outputs": [],
   "source": []
  }
 ],
 "metadata": {
  "kernelspec": {
   "display_name": "Python 3 (ipykernel)",
   "language": "python",
   "name": "python3"
  },
  "language_info": {
   "codemirror_mode": {
    "name": "ipython",
    "version": 3
   },
   "file_extension": ".py",
   "mimetype": "text/x-python",
   "name": "python",
   "nbconvert_exporter": "python",
   "pygments_lexer": "ipython3",
   "version": "3.11.4"
  }
 },
 "nbformat": 4,
 "nbformat_minor": 5
}
