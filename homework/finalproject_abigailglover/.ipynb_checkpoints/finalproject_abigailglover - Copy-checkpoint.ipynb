{
 "cells": [
  {
   "cell_type": "code",
   "execution_count": 1,
   "id": "3ef1c766-f4f9-419c-9642-d45a0f5f5011",
   "metadata": {},
   "outputs": [],
   "source": [
    "# Abigail Glover\n",
    "# ast4762\n",
    "# Final Project"
   ]
  },
  {
   "cell_type": "code",
   "execution_count": 2,
   "id": "04afae07-bcaf-4b3b-a105-16c91694515a",
   "metadata": {},
   "outputs": [],
   "source": [
    "# Import libraries\n",
    "import numpy as np\n",
    "import astropy.io as fits\n",
    "import os\n",
    "import finalproject_abigailglover_support_functions as SF\n",
    "import matplotlib.pyplot as plt"
   ]
  },
  {
   "cell_type": "code",
   "execution_count": 3,
   "id": "e99bcb2b-503e-4943-806e-2ab523caa817",
   "metadata": {},
   "outputs": [
    {
     "name": "stdout",
     "output_type": "stream",
     "text": [
      "\n",
      "Problem 3\n",
      "The folder 'data' can be found at the following path: C:\\Users\\Abigail Glover\\Desktop\\ast4762\\Homework\\finalproject_abigailglover\\data\n"
     ]
    }
   ],
   "source": [
    "# Problem 3 - Define variables\n",
    "\n",
    "# Data information\n",
    "current_folder = os.getcwd()\n",
    "data_path = os.path.join(current_folder, \"data\")\n",
    "data_dir = \"data/\"\n",
    "\n",
    "# Indexing array variables\n",
    "# Add one from starting array\n",
    "sub_arr1 = 187\n",
    "sub_arr2 = 197\n",
    "\n",
    "frame_interval = 64\n",
    "sigma_threshold = 5\n",
    "\n",
    "# Print problem statement\n",
    "print('\\nProblem 3')\n",
    "\n",
    "# Print directory name where data is saved\n",
    "print(\"The folder 'data' can be found at the following path:\", data_path)"
   ]
  },
  {
   "cell_type": "code",
   "execution_count": 4,
   "id": "3851a880-f02a-4013-84ce-a5c7e97b3be9",
   "metadata": {},
   "outputs": [],
   "source": [
    "# Problem 4 part ciii and problem 5\n",
    "# Function for sorting files\n",
    "\n",
    "# Define the function\n",
    "def extract_files_in_range(file_list, sub_arr1, sub_arr2):\n",
    "    filtered_files = []\n",
    "\n",
    "    # Loop through file names and organize based on number\n",
    "    for file_name in file_list:\n",
    "        if file_name.endswith('.fits'):\n",
    "\n",
    "            # Use '_' as a separator\n",
    "            file_number = int(file_name.split('_')[3][1:]) \n",
    "            if sub_arr1 <= file_number <= sub_arr2:\n",
    "                filtered_files.append(file_name)\n",
    "\n",
    "    return filtered_files"
   ]
  },
  {
   "cell_type": "code",
   "execution_count": 15,
   "id": "931b359b-cf41-486a-b7b0-0ceb3bf20d18",
   "metadata": {},
   "outputs": [
    {
     "name": "stdout",
     "output_type": "stream",
     "text": [
      "\n",
      "Problem 4\n"
     ]
    }
   ],
   "source": [
    "# Problem 4\n",
    "print('\\nProblem 4')\n",
    "\n",
    "# Import libraries\n",
    "import os\n",
    "from astropy.io import fits\n",
    "import numpy as np\n",
    "\n",
    "def read_fits_files(folder_path, sub_arr1, sub_arr2):\n",
    "    fits_data = None  # Initialize the 3D data cube\n",
    "    frame_parameters = []  # Initialize the list for frame parameters\n",
    "\n",
    "    # Check if the specified folder exists\n",
    "    if not os.path.exists(folder_path):\n",
    "        print(f\"The folder {folder_path} does not exist.\")\n",
    "        return fits_data, frame_parameters\n",
    "\n",
    "    # Get a list of files in the folder\n",
    "    files = os.listdir(folder_path)\n",
    "\n",
    "    # Filter files based on the subarray set range\n",
    "    files_in_directory = os.listdir(folder_path)\n",
    "    filtered_files = extract_files_in_range(files_in_directory, sub_arr1, sub_arr2)\n",
    "\n",
    "    # Counter to keep track of file index\n",
    "    file_counter = 0\n",
    "\n",
    "    # Iterate through each file in the filtered list\n",
    "    for file_name in filtered_files:\n",
    "        file_path = os.path.join(folder_path, file_name)\n",
    "\n",
    "        try:\n",
    "            # Read the FITS file\n",
    "            with fits.open(file_path) as hdul:\n",
    "\n",
    "                # Extract data and header from the FITS file\n",
    "                file_data = hdul[0].data.copy()\n",
    "                fits_header = hdul[0].header\n",
    "\n",
    "                # Find the observation time, exposure time, and frame time in the FITS header\n",
    "                observation_time = fits_header.get('DATE_OBS', '')\n",
    "                frame_time = fits_header.get('FRAMTIME', None)\n",
    "                exposure_duration = fits_header.get('EXPTIME', None)\n",
    "\n",
    "                # Problem 4 c iii\n",
    "                # Take half of the exposure time and add it to a time keyword\n",
    "                exposure_duration_copy = exposure_duration\n",
    "                mid_time = exposure_duration_copy / 2\n",
    "\n",
    "                # Determine the number of frames to insert\n",
    "                num_frames = file_data.shape[0]\n",
    "\n",
    "                # Initialize fits_data if it is None\n",
    "                if fits_data is None:\n",
    "                    fits_data = np.empty((0,) + file_data.shape[1:], dtype=file_data.dtype)\n",
    "\n",
    "                # Iterate through each frame in the current file\n",
    "                for i in range(num_frames):\n",
    "                    # Increment the frame index\n",
    "                    frame_index = (file_counter * 64) + i + 1\n",
    "\n",
    "                    # Calculate the time of the current frame\n",
    "                    current_frame_time = observation_time + (i * frame_time)\n",
    "\n",
    "                    # Append frame parameters to the list\n",
    "                    frame_parameters.append({\n",
    "                        'file_name': file_name,\n",
    "                        'frame_index': frame_index,\n",
    "                        'num_frames': num_frames,\n",
    "                        'observation_time': observation_time,\n",
    "                        'frame_timing': current_frame_time,\n",
    "                    })\n",
    "\n",
    "                    # Append data into the 3D data cube\n",
    "                    fits_data = np.concatenate([fits_data, file_data[i:i + 1]])\n",
    "\n",
    "        except Exception as e:\n",
    "            print(f\"Error reading {file_name}: {str(e)}\")\n",
    "\n",
    "        # Increment the file counter\n",
    "        file_counter += 1\n",
    "\n",
    "        # Print filename, DATE-OBS, and frame timing for every 10th file\n",
    "        if (file_counter - 1) % 10 == 0:\n",
    "            print(f\"File {file_counter}: {file_name}, DATE-OBS: {observation_time}, Frame Timing: {current_frame_time}\")\n",
    "\n",
    "    # Convert the list to an array for frame parameters\n",
    "    frame_parameters_array = np.array(\n",
    "        [(item['file_name'], item['frame_index'], item['num_frames'], item['observation_time'], item['frame_timing'],\n",
    "          item.get('other_parameters', '')) for item in frame_parameters],\n",
    "        dtype=[('file_name', 'U50'), ('frame_index', int), ('num_frames', int), ('observation_time', 'U50'),\n",
    "               ('frame_timing', 'U50'), ('other_parameters', 'U50')])\n",
    "\n",
    "    return fits_data, frame_parameters_array\n",
    "\n"
   ]
  },
  {
   "cell_type": "code",
   "execution_count": 16,
   "id": "e9793960-a9ad-49e1-8240-e6d8c625e493",
   "metadata": {},
   "outputs": [
    {
     "name": "stdout",
     "output_type": "stream",
     "text": [
      "\n",
      "Starting subarray set: 187\n",
      "\n",
      "Total number of subarray sets: 11\n",
      "\n",
      "\n",
      "\n",
      "Error reading SPITZER_I4_20674048_0187_0000_2_bcd.fits: can only concatenate str (not \"float\") to str\n"
     ]
    },
    {
     "ename": "UnboundLocalError",
     "evalue": "cannot access local variable 'current_frame_time' where it is not associated with a value",
     "output_type": "error",
     "traceback": [
      "\u001b[1;31m---------------------------------------------------------------------------\u001b[0m",
      "\u001b[1;31mUnboundLocalError\u001b[0m                         Traceback (most recent call last)",
      "Cell \u001b[1;32mIn[16], line 17\u001b[0m\n\u001b[0;32m     13\u001b[0m \u001b[38;5;66;03m# Run the function\u001b[39;00m\n\u001b[0;32m     14\u001b[0m \u001b[38;5;28;01mif\u001b[39;00m run_routine:\n\u001b[0;32m     15\u001b[0m     \n\u001b[0;32m     16\u001b[0m     \u001b[38;5;66;03m# Run the routine and capture the return values\u001b[39;00m\n\u001b[1;32m---> 17\u001b[0m     data_cube, frame_params_array \u001b[38;5;241m=\u001b[39m \u001b[43mread_fits_files\u001b[49m\u001b[43m(\u001b[49m\u001b[43mdata_path\u001b[49m\u001b[43m,\u001b[49m\u001b[43m \u001b[49m\u001b[43msub_arr1\u001b[49m\u001b[43m,\u001b[49m\u001b[43m \u001b[49m\u001b[43msub_arr2\u001b[49m\u001b[43m)\u001b[49m\n",
      "Cell \u001b[1;32mIn[15], line 85\u001b[0m, in \u001b[0;36mread_fits_files\u001b[1;34m(folder_path, sub_arr1, sub_arr2)\u001b[0m\n\u001b[0;32m     83\u001b[0m     \u001b[38;5;66;03m# Print filename, DATE-OBS, and frame timing for every 10th file\u001b[39;00m\n\u001b[0;32m     84\u001b[0m     \u001b[38;5;28;01mif\u001b[39;00m (file_counter \u001b[38;5;241m-\u001b[39m \u001b[38;5;241m1\u001b[39m) \u001b[38;5;241m%\u001b[39m \u001b[38;5;241m10\u001b[39m \u001b[38;5;241m==\u001b[39m \u001b[38;5;241m0\u001b[39m:\n\u001b[1;32m---> 85\u001b[0m         \u001b[38;5;28mprint\u001b[39m(\u001b[38;5;124mf\u001b[39m\u001b[38;5;124m\"\u001b[39m\u001b[38;5;124mFile \u001b[39m\u001b[38;5;132;01m{\u001b[39;00mfile_counter\u001b[38;5;132;01m}\u001b[39;00m\u001b[38;5;124m: \u001b[39m\u001b[38;5;132;01m{\u001b[39;00mfile_name\u001b[38;5;132;01m}\u001b[39;00m\u001b[38;5;124m, DATE-OBS: \u001b[39m\u001b[38;5;132;01m{\u001b[39;00mobservation_time\u001b[38;5;132;01m}\u001b[39;00m\u001b[38;5;124m, Frame Timing: \u001b[39m\u001b[38;5;132;01m{\u001b[39;00m\u001b[43mcurrent_frame_time\u001b[49m\u001b[38;5;132;01m}\u001b[39;00m\u001b[38;5;124m\"\u001b[39m)\n\u001b[0;32m     87\u001b[0m \u001b[38;5;66;03m# Convert the list to an array for frame parameters\u001b[39;00m\n\u001b[0;32m     88\u001b[0m frame_parameters_array \u001b[38;5;241m=\u001b[39m np\u001b[38;5;241m.\u001b[39marray(\n\u001b[0;32m     89\u001b[0m     [(item[\u001b[38;5;124m'\u001b[39m\u001b[38;5;124mfile_name\u001b[39m\u001b[38;5;124m'\u001b[39m], item[\u001b[38;5;124m'\u001b[39m\u001b[38;5;124mframe_index\u001b[39m\u001b[38;5;124m'\u001b[39m], item[\u001b[38;5;124m'\u001b[39m\u001b[38;5;124mnum_frames\u001b[39m\u001b[38;5;124m'\u001b[39m], item[\u001b[38;5;124m'\u001b[39m\u001b[38;5;124mobservation_time\u001b[39m\u001b[38;5;124m'\u001b[39m], item[\u001b[38;5;124m'\u001b[39m\u001b[38;5;124mframe_timing\u001b[39m\u001b[38;5;124m'\u001b[39m],\n\u001b[0;32m     90\u001b[0m       item\u001b[38;5;241m.\u001b[39mget(\u001b[38;5;124m'\u001b[39m\u001b[38;5;124mother_parameters\u001b[39m\u001b[38;5;124m'\u001b[39m, \u001b[38;5;124m'\u001b[39m\u001b[38;5;124m'\u001b[39m)) \u001b[38;5;28;01mfor\u001b[39;00m item \u001b[38;5;129;01min\u001b[39;00m frame_parameters],\n\u001b[0;32m     91\u001b[0m     dtype\u001b[38;5;241m=\u001b[39m[(\u001b[38;5;124m'\u001b[39m\u001b[38;5;124mfile_name\u001b[39m\u001b[38;5;124m'\u001b[39m, \u001b[38;5;124m'\u001b[39m\u001b[38;5;124mU50\u001b[39m\u001b[38;5;124m'\u001b[39m), (\u001b[38;5;124m'\u001b[39m\u001b[38;5;124mframe_index\u001b[39m\u001b[38;5;124m'\u001b[39m, \u001b[38;5;28mint\u001b[39m), (\u001b[38;5;124m'\u001b[39m\u001b[38;5;124mnum_frames\u001b[39m\u001b[38;5;124m'\u001b[39m, \u001b[38;5;28mint\u001b[39m), (\u001b[38;5;124m'\u001b[39m\u001b[38;5;124mobservation_time\u001b[39m\u001b[38;5;124m'\u001b[39m, \u001b[38;5;124m'\u001b[39m\u001b[38;5;124mU50\u001b[39m\u001b[38;5;124m'\u001b[39m),\n\u001b[0;32m     92\u001b[0m            (\u001b[38;5;124m'\u001b[39m\u001b[38;5;124mframe_timing\u001b[39m\u001b[38;5;124m'\u001b[39m, \u001b[38;5;124m'\u001b[39m\u001b[38;5;124mU50\u001b[39m\u001b[38;5;124m'\u001b[39m), (\u001b[38;5;124m'\u001b[39m\u001b[38;5;124mother_parameters\u001b[39m\u001b[38;5;124m'\u001b[39m, \u001b[38;5;124m'\u001b[39m\u001b[38;5;124mU50\u001b[39m\u001b[38;5;124m'\u001b[39m)])\n",
      "\u001b[1;31mUnboundLocalError\u001b[0m: cannot access local variable 'current_frame_time' where it is not associated with a value"
     ]
    }
   ],
   "source": [
    "# Problem 4 Part c\n",
    "sub_arr_start = sub_arr1\n",
    "tot_sub_arrs = (sub_arr2 - sub_arr1) + 1\n",
    "\n",
    "# Print statements\n",
    "print(f\"\\nStarting subarray set:\", sub_arr_start)\n",
    "print(f\"\\nTotal number of subarray sets:\", tot_sub_arrs)\n",
    "print(\"\\n\\n\")\n",
    "\n",
    "# Set this variable to True to run the routine\n",
    "run_routine = True\n",
    "\n",
    "# Run the function\n",
    "if run_routine:\n",
    "    \n",
    "    # Run the routine and capture the return values\n",
    "    data_cube, frame_params_array = read_fits_files(data_path, sub_arr1, sub_arr2)"
   ]
  },
  {
   "cell_type": "code",
   "execution_count": 17,
   "id": "c2af14a6-294e-4b63-881a-55e6d709a3d9",
   "metadata": {},
   "outputs": [
    {
     "name": "stdout",
     "output_type": "stream",
     "text": [
      "\n",
      "Total number of frames in the subarray: 704\n",
      "\n",
      "Image cube size: (704, 32, 32)\n"
     ]
    }
   ],
   "source": [
    "# Problem 4 part a\n",
    "# Print the number of frames in the subarray\n",
    "if frame_params_array is not None:\n",
    "    frames_in_subarray = frame_params_array[frame_params_array['frame_index'] <= tot_sub_arrs]['num_frames']\n",
    "    total_frames = np.sum(frames_in_subarray)\n",
    "    print(f\"\\nTotal number of frames in the subarray: {total_frames}\")\n",
    "\n",
    "# Print the dimensions of the image cube\n",
    "if data_cube is not None:\n",
    "    cube_size = data_cube.shape\n",
    "    print(f\"\\nImage cube size: {cube_size}\")\n"
   ]
  },
  {
   "cell_type": "code",
   "execution_count": null,
   "id": "b8e70842-ac91-405d-8385-f8d393809506",
   "metadata": {},
   "outputs": [],
   "source": [
    "# Print Problem Statement\n",
    "print('\\n\\nProblem 5')\n",
    "\n",
    "# Display the first five frames using imshow()\n",
    "plt.imshow(data_cube[:5], cmap='viridis') \n",
    "plt.title(\"Visualization of First Five Frames\")\n",
    "plt.show()\n"
   ]
  },
  {
   "cell_type": "code",
   "execution_count": 92,
   "id": "4707b626-fc4f-479d-8320-0987a63ae6b7",
   "metadata": {},
   "outputs": [
    {
     "name": "stdout",
     "output_type": "stream",
     "text": [
      "Problem 5\n"
     ]
    },
    {
     "ename": "UnboundLocalError",
     "evalue": "cannot access local variable 'data' where it is not associated with a value",
     "output_type": "error",
     "traceback": [
      "\u001b[1;31m---------------------------------------------------------------------------\u001b[0m",
      "\u001b[1;31mUnboundLocalError\u001b[0m                         Traceback (most recent call last)",
      "Cell \u001b[1;32mIn[92], line 10\u001b[0m\n\u001b[0;32m      5\u001b[0m run_routine \u001b[38;5;241m=\u001b[39m \u001b[38;5;28;01mTrue\u001b[39;00m\n\u001b[0;32m      7\u001b[0m \u001b[38;5;28;01mif\u001b[39;00m run_routine:\n\u001b[0;32m      8\u001b[0m \n\u001b[0;32m      9\u001b[0m     \u001b[38;5;66;03m# Run the routine and capture the return values\u001b[39;00m\n\u001b[1;32m---> 10\u001b[0m     data_cube, frame_params_array \u001b[38;5;241m=\u001b[39m \u001b[43mSF\u001b[49m\u001b[38;5;241;43m.\u001b[39;49m\u001b[43mread_and_extract_data\u001b[49m\u001b[43m(\u001b[49m\u001b[43mdata_path\u001b[49m\u001b[43m,\u001b[49m\u001b[43m \u001b[49m\u001b[43msub_arr1\u001b[49m\u001b[43m,\u001b[49m\u001b[43m \u001b[49m\u001b[43msub_arr2\u001b[49m\u001b[43m)\u001b[49m\n\u001b[0;32m     12\u001b[0m     \u001b[38;5;66;03m# Display the results using imshow()\u001b[39;00m\n\u001b[0;32m     13\u001b[0m     plt\u001b[38;5;241m.\u001b[39mimshow(data_cube, cmap\u001b[38;5;241m=\u001b[39m\u001b[38;5;124m'\u001b[39m\u001b[38;5;124mviridis\u001b[39m\u001b[38;5;124m'\u001b[39m) \n",
      "File \u001b[1;32m~\\Desktop\\ast4762\\Homework\\finalproject_abigailglover\\finalproject_abigailglover_support_functions.py:57\u001b[0m, in \u001b[0;36mread_and_extract_data\u001b[1;34m(folder_path, start_set, num_sets)\u001b[0m\n\u001b[0;32m     54\u001b[0m frame_params_array \u001b[38;5;241m=\u001b[39m np\u001b[38;5;241m.\u001b[39marray([], dtype\u001b[38;5;241m=\u001b[39m[(\u001b[38;5;124m\"\u001b[39m\u001b[38;5;124mframe_number\u001b[39m\u001b[38;5;124m\"\u001b[39m, \u001b[38;5;28mint\u001b[39m), (\u001b[38;5;124m\"\u001b[39m\u001b[38;5;124mobs_time\u001b[39m\u001b[38;5;124m\"\u001b[39m, \u001b[38;5;28mfloat\u001b[39m)])  \u001b[38;5;66;03m# Initialize outside the loop\u001b[39;00m\n\u001b[0;32m     56\u001b[0m \u001b[38;5;66;03m# Initialize the mask array to True\u001b[39;00m\n\u001b[1;32m---> 57\u001b[0m mask_array \u001b[38;5;241m=\u001b[39m np\u001b[38;5;241m.\u001b[39mones_like(\u001b[43mdata\u001b[49m, dtype\u001b[38;5;241m=\u001b[39m\u001b[38;5;28mbool\u001b[39m)\n\u001b[0;32m     59\u001b[0m \u001b[38;5;28;01mfor\u001b[39;00m i, file_name \u001b[38;5;129;01min\u001b[39;00m \u001b[38;5;28menumerate\u001b[39m(file_list[start_set \u001b[38;5;241m*\u001b[39m \u001b[38;5;241m100\u001b[39m: (start_set \u001b[38;5;241m+\u001b[39m num_sets) \u001b[38;5;241m*\u001b[39m \u001b[38;5;241m100\u001b[39m]):\n\u001b[0;32m     60\u001b[0m     file_path \u001b[38;5;241m=\u001b[39m os\u001b[38;5;241m.\u001b[39mpath\u001b[38;5;241m.\u001b[39mjoin(folder_path, file_name)\n",
      "\u001b[1;31mUnboundLocalError\u001b[0m: cannot access local variable 'data' where it is not associated with a value"
     ]
    }
   ],
   "source": []
  },
  {
   "cell_type": "code",
   "execution_count": null,
   "id": "1872fba7-d326-4d8a-93da-48d8eb31829f",
   "metadata": {},
   "outputs": [],
   "source": [
    "# Print Problem Statement\n",
    "print(\"\\nProblem 6\")\n",
    "\n",
    "# Boolean mask: set flagged pixels to 0 in the data array\n",
    "data_cube[~mask_array] = 0"
   ]
  },
  {
   "cell_type": "code",
   "execution_count": 9,
   "id": "1c37936b-1be4-473e-a489-acfc9a7f519c",
   "metadata": {},
   "outputs": [
    {
     "name": "stdout",
     "output_type": "stream",
     "text": [
      "\n",
      "Problem 7\n"
     ]
    },
    {
     "ename": "AxisError",
     "evalue": "axis 1 is out of bounds for array of dimension 0",
     "output_type": "error",
     "traceback": [
      "\u001b[1;31m---------------------------------------------------------------------------\u001b[0m",
      "\u001b[1;31mAxisError\u001b[0m                                 Traceback (most recent call last)",
      "Cell \u001b[1;32mIn[9], line 5\u001b[0m\n\u001b[0;32m      2\u001b[0m \u001b[38;5;28mprint\u001b[39m(\u001b[38;5;124m\"\u001b[39m\u001b[38;5;130;01m\\n\u001b[39;00m\u001b[38;5;124mProblem 7\u001b[39m\u001b[38;5;124m\"\u001b[39m)\n\u001b[0;32m      4\u001b[0m \u001b[38;5;66;03m# Calculate median background for each frame in the data_cube\u001b[39;00m\n\u001b[1;32m----> 5\u001b[0m median_backgrounds \u001b[38;5;241m=\u001b[39m \u001b[43mnp\u001b[49m\u001b[38;5;241;43m.\u001b[39;49m\u001b[43mmedian\u001b[49m\u001b[43m(\u001b[49m\u001b[43mdata_cube\u001b[49m\u001b[43m,\u001b[49m\u001b[43m \u001b[49m\u001b[43maxis\u001b[49m\u001b[38;5;241;43m=\u001b[39;49m\u001b[43m(\u001b[49m\u001b[38;5;241;43m1\u001b[39;49m\u001b[43m,\u001b[49m\u001b[43m \u001b[49m\u001b[38;5;241;43m2\u001b[39;49m\u001b[43m)\u001b[49m\u001b[43m)\u001b[49m\n\u001b[0;32m      7\u001b[0m \u001b[38;5;66;03m# Record median background in frame_params_array\u001b[39;00m\n\u001b[0;32m      8\u001b[0m frame_params_array[\u001b[38;5;124m\"\u001b[39m\u001b[38;5;124mmedian_background\u001b[39m\u001b[38;5;124m\"\u001b[39m] \u001b[38;5;241m=\u001b[39m median_backgrounds\n",
      "File \u001b[1;32m<__array_function__ internals>:200\u001b[0m, in \u001b[0;36mmedian\u001b[1;34m(*args, **kwargs)\u001b[0m\n",
      "File \u001b[1;32m~\\anaconda3\\Lib\\site-packages\\numpy\\lib\\function_base.py:3856\u001b[0m, in \u001b[0;36mmedian\u001b[1;34m(a, axis, out, overwrite_input, keepdims)\u001b[0m\n\u001b[0;32m   3774\u001b[0m \u001b[38;5;129m@array_function_dispatch\u001b[39m(_median_dispatcher)\n\u001b[0;32m   3775\u001b[0m \u001b[38;5;28;01mdef\u001b[39;00m \u001b[38;5;21mmedian\u001b[39m(a, axis\u001b[38;5;241m=\u001b[39m\u001b[38;5;28;01mNone\u001b[39;00m, out\u001b[38;5;241m=\u001b[39m\u001b[38;5;28;01mNone\u001b[39;00m, overwrite_input\u001b[38;5;241m=\u001b[39m\u001b[38;5;28;01mFalse\u001b[39;00m, keepdims\u001b[38;5;241m=\u001b[39m\u001b[38;5;28;01mFalse\u001b[39;00m):\n\u001b[0;32m   3776\u001b[0m \u001b[38;5;250m    \u001b[39m\u001b[38;5;124;03m\"\"\"\u001b[39;00m\n\u001b[0;32m   3777\u001b[0m \u001b[38;5;124;03m    Compute the median along the specified axis.\u001b[39;00m\n\u001b[0;32m   3778\u001b[0m \n\u001b[1;32m   (...)\u001b[0m\n\u001b[0;32m   3854\u001b[0m \n\u001b[0;32m   3855\u001b[0m \u001b[38;5;124;03m    \"\"\"\u001b[39;00m\n\u001b[1;32m-> 3856\u001b[0m     \u001b[38;5;28;01mreturn\u001b[39;00m \u001b[43m_ureduce\u001b[49m\u001b[43m(\u001b[49m\u001b[43ma\u001b[49m\u001b[43m,\u001b[49m\u001b[43m \u001b[49m\u001b[43mfunc\u001b[49m\u001b[38;5;241;43m=\u001b[39;49m\u001b[43m_median\u001b[49m\u001b[43m,\u001b[49m\u001b[43m \u001b[49m\u001b[43mkeepdims\u001b[49m\u001b[38;5;241;43m=\u001b[39;49m\u001b[43mkeepdims\u001b[49m\u001b[43m,\u001b[49m\u001b[43m \u001b[49m\u001b[43maxis\u001b[49m\u001b[38;5;241;43m=\u001b[39;49m\u001b[43maxis\u001b[49m\u001b[43m,\u001b[49m\u001b[43m \u001b[49m\u001b[43mout\u001b[49m\u001b[38;5;241;43m=\u001b[39;49m\u001b[43mout\u001b[49m\u001b[43m,\u001b[49m\n\u001b[0;32m   3857\u001b[0m \u001b[43m                    \u001b[49m\u001b[43moverwrite_input\u001b[49m\u001b[38;5;241;43m=\u001b[39;49m\u001b[43moverwrite_input\u001b[49m\u001b[43m)\u001b[49m\n",
      "File \u001b[1;32m~\\anaconda3\\Lib\\site-packages\\numpy\\lib\\function_base.py:3727\u001b[0m, in \u001b[0;36m_ureduce\u001b[1;34m(a, func, keepdims, **kwargs)\u001b[0m\n\u001b[0;32m   3725\u001b[0m nd \u001b[38;5;241m=\u001b[39m a\u001b[38;5;241m.\u001b[39mndim\n\u001b[0;32m   3726\u001b[0m \u001b[38;5;28;01mif\u001b[39;00m axis \u001b[38;5;129;01mis\u001b[39;00m \u001b[38;5;129;01mnot\u001b[39;00m \u001b[38;5;28;01mNone\u001b[39;00m:\n\u001b[1;32m-> 3727\u001b[0m     axis \u001b[38;5;241m=\u001b[39m \u001b[43m_nx\u001b[49m\u001b[38;5;241;43m.\u001b[39;49m\u001b[43mnormalize_axis_tuple\u001b[49m\u001b[43m(\u001b[49m\u001b[43maxis\u001b[49m\u001b[43m,\u001b[49m\u001b[43m \u001b[49m\u001b[43mnd\u001b[49m\u001b[43m)\u001b[49m\n\u001b[0;32m   3729\u001b[0m     \u001b[38;5;28;01mif\u001b[39;00m keepdims:\n\u001b[0;32m   3730\u001b[0m         \u001b[38;5;28;01mif\u001b[39;00m out \u001b[38;5;129;01mis\u001b[39;00m \u001b[38;5;129;01mnot\u001b[39;00m \u001b[38;5;28;01mNone\u001b[39;00m:\n",
      "File \u001b[1;32m~\\anaconda3\\Lib\\site-packages\\numpy\\core\\numeric.py:1398\u001b[0m, in \u001b[0;36mnormalize_axis_tuple\u001b[1;34m(axis, ndim, argname, allow_duplicate)\u001b[0m\n\u001b[0;32m   1396\u001b[0m         \u001b[38;5;28;01mpass\u001b[39;00m\n\u001b[0;32m   1397\u001b[0m \u001b[38;5;66;03m# Going via an iterator directly is slower than via list comprehension.\u001b[39;00m\n\u001b[1;32m-> 1398\u001b[0m axis \u001b[38;5;241m=\u001b[39m \u001b[38;5;28mtuple\u001b[39m(\u001b[43m[\u001b[49m\u001b[43mnormalize_axis_index\u001b[49m\u001b[43m(\u001b[49m\u001b[43max\u001b[49m\u001b[43m,\u001b[49m\u001b[43m \u001b[49m\u001b[43mndim\u001b[49m\u001b[43m,\u001b[49m\u001b[43m \u001b[49m\u001b[43margname\u001b[49m\u001b[43m)\u001b[49m\u001b[43m \u001b[49m\u001b[38;5;28;43;01mfor\u001b[39;49;00m\u001b[43m \u001b[49m\u001b[43max\u001b[49m\u001b[43m \u001b[49m\u001b[38;5;129;43;01min\u001b[39;49;00m\u001b[43m \u001b[49m\u001b[43maxis\u001b[49m\u001b[43m]\u001b[49m)\n\u001b[0;32m   1399\u001b[0m \u001b[38;5;28;01mif\u001b[39;00m \u001b[38;5;129;01mnot\u001b[39;00m allow_duplicate \u001b[38;5;129;01mand\u001b[39;00m \u001b[38;5;28mlen\u001b[39m(\u001b[38;5;28mset\u001b[39m(axis)) \u001b[38;5;241m!=\u001b[39m \u001b[38;5;28mlen\u001b[39m(axis):\n\u001b[0;32m   1400\u001b[0m     \u001b[38;5;28;01mif\u001b[39;00m argname:\n",
      "File \u001b[1;32m~\\anaconda3\\Lib\\site-packages\\numpy\\core\\numeric.py:1398\u001b[0m, in \u001b[0;36m<listcomp>\u001b[1;34m(.0)\u001b[0m\n\u001b[0;32m   1396\u001b[0m         \u001b[38;5;28;01mpass\u001b[39;00m\n\u001b[0;32m   1397\u001b[0m \u001b[38;5;66;03m# Going via an iterator directly is slower than via list comprehension.\u001b[39;00m\n\u001b[1;32m-> 1398\u001b[0m axis \u001b[38;5;241m=\u001b[39m \u001b[38;5;28mtuple\u001b[39m([\u001b[43mnormalize_axis_index\u001b[49m\u001b[43m(\u001b[49m\u001b[43max\u001b[49m\u001b[43m,\u001b[49m\u001b[43m \u001b[49m\u001b[43mndim\u001b[49m\u001b[43m,\u001b[49m\u001b[43m \u001b[49m\u001b[43margname\u001b[49m\u001b[43m)\u001b[49m \u001b[38;5;28;01mfor\u001b[39;00m ax \u001b[38;5;129;01min\u001b[39;00m axis])\n\u001b[0;32m   1399\u001b[0m \u001b[38;5;28;01mif\u001b[39;00m \u001b[38;5;129;01mnot\u001b[39;00m allow_duplicate \u001b[38;5;129;01mand\u001b[39;00m \u001b[38;5;28mlen\u001b[39m(\u001b[38;5;28mset\u001b[39m(axis)) \u001b[38;5;241m!=\u001b[39m \u001b[38;5;28mlen\u001b[39m(axis):\n\u001b[0;32m   1400\u001b[0m     \u001b[38;5;28;01mif\u001b[39;00m argname:\n",
      "\u001b[1;31mAxisError\u001b[0m: axis 1 is out of bounds for array of dimension 0"
     ]
    }
   ],
   "source": [
    "# Print Problem Statement\n",
    "print(\"\\nProblem 7\")\n",
    "\n",
    "# Calculate median background for each frame in the data_cube\n",
    "median_backgrounds = np.median(data_cube, axis=(1, 2))\n",
    "\n",
    "# Record median background in frame_params_array\n",
    "frame_params_array[\"median_background\"] = median_backgrounds\n",
    "\n",
    "# Subtract median background from each frame in the data_cube\n",
    "data_cube -= median_backgrounds[:, np.newaxis, np.newaxis]\n",
    "\n",
    "# Plot median background vs frame number\n",
    "plt.plot(frame_params_array[\"frame_number\"], frame_params_array[\"median_background\"], marker='o')\n",
    "plt.title(\"Median Background vs. Frame Number\")\n",
    "plt.xlabel(\"Frame Number\")\n",
    "plt.ylabel(\"Median Background\")\n",
    "plt.show()"
   ]
  },
  {
   "cell_type": "code",
   "execution_count": null,
   "id": "9cc90127-3b35-404f-9ced-dbc95baf2e80",
   "metadata": {},
   "outputs": [],
   "source": [
    "# Print Problem Statement\n",
    "print('\\nProblem 8')\n",
    "\n"
   ]
  }
 ],
 "metadata": {
  "kernelspec": {
   "display_name": "Python 3 (ipykernel)",
   "language": "python",
   "name": "python3"
  },
  "language_info": {
   "codemirror_mode": {
    "name": "ipython",
    "version": 3
   },
   "file_extension": ".py",
   "mimetype": "text/x-python",
   "name": "python",
   "nbconvert_exporter": "python",
   "pygments_lexer": "ipython3",
   "version": "3.11.4"
  }
 },
 "nbformat": 4,
 "nbformat_minor": 5
}
