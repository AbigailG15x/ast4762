{
 "cells": [
  {
   "cell_type": "code",
   "execution_count": 1,
   "id": "3ef1c766-f4f9-419c-9642-d45a0f5f5011",
   "metadata": {},
   "outputs": [],
   "source": [
    "# Abigail Glover\n",
    "# ast4762\n",
    "# Final Project"
   ]
  },
  {
   "cell_type": "code",
   "execution_count": 2,
   "id": "04afae07-bcaf-4b3b-a105-16c91694515a",
   "metadata": {},
   "outputs": [],
   "source": [
    "# Import libraries\n",
    "import numpy as np\n",
    "import astropy.io as fits\n",
    "import os\n",
    "import finalproject_abigailglover_support_functions as SF\n",
    "import matplotlib.pyplot as plt"
   ]
  },
  {
   "cell_type": "code",
   "execution_count": 43,
   "id": "e99bcb2b-503e-4943-806e-2ab523caa817",
   "metadata": {},
   "outputs": [
    {
     "name": "stdout",
     "output_type": "stream",
     "text": [
      "\n",
      "Problem 3\n",
      "The folder 'data' can be found at the following path: C:\\Users\\Abigail Glover\\Desktop\\ast4762\\Homework\\finalproject_abigailglover\\data\n"
     ]
    }
   ],
   "source": [
    "# Problem 3 - Define variables\n",
    "\n",
    "# Data information\n",
    "current_folder = os.getcwd()\n",
    "data_path = os.path.join(current_folder, \"data\")\n",
    "data_dir = \"data/\"\n",
    "\n",
    "# Indexing array variables\n",
    "# Add one from starting array\n",
    "sub_arr1 = 187\n",
    "sub_arr2 = 686\n",
    "\n",
    "frame_interval = 64\n",
    "sigma_threshold = 5\n",
    "\n",
    "# Print problem statement\n",
    "print('\\nProblem 3')\n",
    "\n",
    "# Print directory name where data is saved\n",
    "print(\"The folder 'data' can be found at the following path:\", data_path)"
   ]
  },
  {
   "cell_type": "code",
   "execution_count": 44,
   "id": "3851a880-f02a-4013-84ce-a5c7e97b3be9",
   "metadata": {},
   "outputs": [],
   "source": [
    "# Problem 4 part ciii and problem 5\n",
    "# Function for sorting files\n",
    "\n",
    "# Define the function\n",
    "def extract_files_in_range(file_list, sub_arr1, sub_arr2):\n",
    "    filtered_files = []\n",
    "\n",
    "    # Loop through file names and organize based on number\n",
    "    for file_name in file_list:\n",
    "        if file_name.endswith('.fits'):\n",
    "\n",
    "            # Use '_' as a separator\n",
    "            file_number = int(file_name.split('_')[3][1:]) \n",
    "            if sub_arr1 <= file_number <= sub_arr2:\n",
    "                filtered_files.append(file_name)\n",
    "\n",
    "    return filtered_files"
   ]
  },
  {
   "cell_type": "code",
   "execution_count": 48,
   "id": "931b359b-cf41-486a-b7b0-0ceb3bf20d18",
   "metadata": {},
   "outputs": [],
   "source": [
    "# Import libraries\n",
    "import os\n",
    "from astropy.io import fits\n",
    "import numpy as np\n",
    "\n",
    "def read_fits_files(folder_path, sub_arr1, sub_arr2):\n",
    "    fits_data = None  # Initialize the 3D data cube\n",
    "    frame_parameters = []  # Initialize the list for frame parameters\n",
    "\n",
    "    # Check if the specified folder exists\n",
    "    if not os.path.exists(folder_path):\n",
    "        print(f\"The folder {folder_path} does not exist.\")\n",
    "        return fits_data, frame_parameters\n",
    "\n",
    "    # Get a list of files in the folder\n",
    "    files = os.listdir(folder_path)\n",
    "\n",
    "    # Filter files based on the subarray set range\n",
    "    files_in_directory = os.listdir(folder_path)\n",
    "    filtered_files = extract_files_in_range(files_in_directory, sub_arr1, sub_arr2)\n",
    "\n",
    "    # Counter to keep track of file index\n",
    "    file_counter = 0\n",
    "\n",
    "    # Iterate through each file in the filtered list\n",
    "    for file_name in filtered_files:\n",
    "        file_path = os.path.join(folder_path, file_name)\n",
    "\n",
    "        try:\n",
    "            # Read the FITS file\n",
    "            with fits.open(file_path) as hdul:\n",
    "                \n",
    "                # Extract data and header from the FITS file\n",
    "                file_data = hdul[0].data.copy()\n",
    "                fits_header = hdul[0].header\n",
    "\n",
    "                # Find the observation time, exposure time, and frame time in the FITS header\n",
    "                observation_time = fits_header.get('UTCS_OBS', '')\n",
    "                frame_time = fits_header.get('FRAMTIME', None)\n",
    "                exposure_duration = fits_header.get('EXPTIME', None)                \n",
    "                \n",
    "                # Problem 4 c iii\n",
    "                # Take half of the exposure time and add it to a time keyword\n",
    "                exposure_duration_copy = exposure_duration\n",
    "                mid_time = exposure_duration_copy / 2\n",
    "\n",
    "                # Determine the number of frames to insert\n",
    "                num_frames = file_data.shape[0]\n",
    "\n",
    "                # Get the mid-time of the first frame\n",
    "                mid_time_first_frame = observation_time + float(mid_time)\n",
    "                \n",
    "                # Initialize fits_data if it is None\n",
    "                if fits_data is None:\n",
    "                    fits_data = np.empty((0,) + file_data.shape[1:], dtype=file_data.dtype)\n",
    "\n",
    "                # Iterate through each frame in the current file\n",
    "                for i in range(num_frames):\n",
    "                    # Increment the frame index\n",
    "                    frame_index = (file_counter * 64) + i + 1\n",
    "\n",
    "                    # Calculate the frame timing\n",
    "                    frame_timing = observation_time if i == 0 else frame_parameters[-1]['frame_timing'] + float(exposure_duration - frame_time)\n",
    "\n",
    "                    frame_timing = observation_time if i == 0 else fits_header['UTCS_OBS'] + float(i * frame_time)\n",
    "\n",
    "                    # Append frame parameters to the list\n",
    "                    frame_parameters.append({\n",
    "                        'file_name': file_name,\n",
    "                        'frame_index': frame_index,\n",
    "                        'num_frames': num_frames,\n",
    "                        'observation_time': observation_time,\n",
    "                        'frame_timing': frame_timing,\n",
    "                    })\n",
    "\n",
    "                    # Append data into the 3D data cube\n",
    "                    fits_data = np.concatenate([fits_data, file_data[i:i+1]])\n",
    "\n",
    "        except Exception as e:\n",
    "            print(f\"Error reading {file_name}: {str(e)}\")\n",
    "        \n",
    "        # Increment the file counter\n",
    "        file_counter += 1\n",
    "        \n",
    "        # Print filename and DATE-OBS for every 10th file\n",
    "        if (file_counter - 1) % 10 == 0:\n",
    "            print(f\"File {file_counter}: {file_name}, UTCS OBS: {observation_time}\")\n",
    "\n",
    "    # Convert the list to an array for frame parameters\n",
    "    frame_parameters_array = np.array([(item['file_name'], item['frame_index'], item['num_frames'], item['observation_time'], item['frame_timing'], item.get('other_parameters', '')) for item in frame_parameters],\n",
    "                                       dtype=[('file_name', 'U50'), ('frame_index', int), ('num_frames', int), ('observation_time', 'U50'), ('frame_timing', 'U50'), ('other_parameters', 'U50')])\n",
    "\n",
    "    return fits_data, frame_parameters_array\n"
   ]
  },
  {
   "cell_type": "code",
   "execution_count": 49,
   "id": "d8e56bda-340e-4b44-acca-022137030275",
   "metadata": {},
   "outputs": [
    {
     "name": "stdout",
     "output_type": "stream",
     "text": [
      "\n",
      "Starting subarray set: 187\n",
      "\n",
      "Total number of subarray sets: 500\n",
      "\n",
      "\n",
      "\n",
      "File 1: SPITZER_I4_20674048_0187_0000_2_bcd.fits, UTCS OBS: 215354061.366\n",
      "File 11: SPITZER_I4_20674048_0197_0000_2_bcd.fits, UTCS OBS: 215354335.502\n",
      "File 21: SPITZER_I4_20674048_0207_0000_2_bcd.fits, UTCS OBS: 215354609.35\n",
      "File 31: SPITZER_I4_20674048_0217_0000_2_bcd.fits, UTCS OBS: 215354883.349\n",
      "File 41: SPITZER_I4_20674048_0227_0000_2_bcd.fits, UTCS OBS: 215355157.372\n",
      "File 51: SPITZER_I4_20674048_0237_0000_2_bcd.fits, UTCS OBS: 215355431.509\n",
      "File 61: SPITZER_I4_20674048_0247_0000_2_bcd.fits, UTCS OBS: 215355705.364\n",
      "File 71: SPITZER_I4_20674048_0257_0000_2_bcd.fits, UTCS OBS: 215355979.363\n",
      "File 81: SPITZER_I4_20674048_0267_0000_2_bcd.fits, UTCS OBS: 215356253.355\n",
      "File 91: SPITZER_I4_20674048_0277_0000_2_bcd.fits, UTCS OBS: 215356527.554\n",
      "File 101: SPITZER_I4_20674048_0287_0000_2_bcd.fits, UTCS OBS: 215356801.343\n",
      "File 111: SPITZER_I4_20674048_0297_0000_2_bcd.fits, UTCS OBS: 215357075.483\n",
      "File 121: SPITZER_I4_20674048_0307_0000_2_bcd.fits, UTCS OBS: 215357349.354\n",
      "File 131: SPITZER_I4_20674048_0317_0000_2_bcd.fits, UTCS OBS: 215357623.529\n",
      "File 141: SPITZER_I4_20674048_0327_0000_2_bcd.fits, UTCS OBS: 215357897.365\n",
      "File 151: SPITZER_I4_20674048_0337_0000_2_bcd.fits, UTCS OBS: 215358171.349\n",
      "File 161: SPITZER_I4_20674048_0347_0000_2_bcd.fits, UTCS OBS: 215358445.345\n",
      "File 171: SPITZER_I4_20674048_0357_0000_2_bcd.fits, UTCS OBS: 215358719.364\n",
      "File 181: SPITZER_I4_20674048_0367_0000_2_bcd.fits, UTCS OBS: 215358993.34\n",
      "File 191: SPITZER_I4_20674048_0377_0000_2_bcd.fits, UTCS OBS: 215359267.574\n",
      "File 201: SPITZER_I4_20674048_0387_0000_2_bcd.fits, UTCS OBS: 215359541.343\n",
      "File 211: SPITZER_I4_20674048_0397_0000_2_bcd.fits, UTCS OBS: 215359815.472\n",
      "File 221: SPITZER_I4_20674048_0407_0000_2_bcd.fits, UTCS OBS: 215360089.343\n",
      "File 231: SPITZER_I4_20674048_0417_0000_2_bcd.fits, UTCS OBS: 215360363.342\n",
      "File 241: SPITZER_I4_20674048_0427_0000_2_bcd.fits, UTCS OBS: 215360637.357\n",
      "File 251: SPITZER_I4_20674048_0437_0000_2_bcd.fits, UTCS OBS: 215360911.467\n",
      "File 261: SPITZER_I4_20674048_0447_0000_2_bcd.fits, UTCS OBS: 215361185.329\n",
      "File 271: SPITZER_I4_20674048_0457_0000_2_bcd.fits, UTCS OBS: 215361459.466\n",
      "File 281: SPITZER_I4_20674048_0467_0000_2_bcd.fits, UTCS OBS: 215361733.337\n",
      "File 291: SPITZER_I4_20674048_0477_0000_2_bcd.fits, UTCS OBS: 215362007.36\n",
      "File 301: SPITZER_I4_20674048_0487_0000_2_bcd.fits, UTCS OBS: 215362281.336\n",
      "File 311: SPITZER_I4_20674048_0497_0000_2_bcd.fits, UTCS OBS: 215362555.328\n",
      "File 321: SPITZER_I4_20674048_0507_0000_2_bcd.fits, UTCS OBS: 215362829.464\n",
      "File 331: SPITZER_I4_20674048_0517_0000_2_bcd.fits, UTCS OBS: 215363103.464\n",
      "File 341: SPITZER_I4_20674048_0527_0000_2_bcd.fits, UTCS OBS: 215363377.354\n",
      "File 351: SPITZER_I4_20674048_0537_0000_2_bcd.fits, UTCS OBS: 215363651.522\n",
      "File 361: SPITZER_I4_20674048_0547_0000_2_bcd.fits, UTCS OBS: 215363925.33\n",
      "File 371: SPITZER_I4_20674048_0557_0000_2_bcd.fits, UTCS OBS: 215364199.447\n",
      "File 381: SPITZER_I4_20674048_0567_0000_2_bcd.fits, UTCS OBS: 215364473.345\n",
      "File 391: SPITZER_I4_20674048_0577_0000_2_bcd.fits, UTCS OBS: 215364747.559\n",
      "File 401: SPITZER_I4_20674048_0587_0000_2_bcd.fits, UTCS OBS: 215365021.336\n",
      "File 411: SPITZER_I4_20674048_0597_0000_2_bcd.fits, UTCS OBS: 215365295.453\n",
      "File 421: SPITZER_I4_20674048_0607_0000_2_bcd.fits, UTCS OBS: 215365569.328\n",
      "File 431: SPITZER_I4_20674048_0617_0000_2_bcd.fits, UTCS OBS: 215365843.323\n",
      "File 441: SPITZER_I4_20674048_0627_0000_2_bcd.fits, UTCS OBS: 215366117.343\n",
      "File 451: SPITZER_I4_20674048_0637_0000_2_bcd.fits, UTCS OBS: 215366391.331\n",
      "File 461: SPITZER_I4_20674048_0647_0000_2_bcd.fits, UTCS OBS: 215366665.315\n",
      "File 471: SPITZER_I4_20674048_0657_0000_2_bcd.fits, UTCS OBS: 215366939.451\n",
      "File 481: SPITZER_I4_20674048_0667_0000_2_bcd.fits, UTCS OBS: 215367213.31\n",
      "File 491: SPITZER_I4_20674048_0677_0000_2_bcd.fits, UTCS OBS: 215367487.521\n"
     ]
    }
   ],
   "source": [
    "# Problem 4 Part c\n",
    "sub_arr_start = sub_arr1\n",
    "tot_sub_arrs = (sub_arr2 - sub_arr1) + 1\n",
    "\n",
    "# Print statements\n",
    "print(f\"\\nStarting subarray set:\", sub_arr_start)\n",
    "print(f\"\\nTotal number of subarray sets:\", tot_sub_arrs)\n",
    "print(\"\\n\\n\")\n",
    "\n",
    "# Print Problem Statement\n",
    "print('\\n\\nProblem 5')\n",
    "\n",
    "# Set this variable to True to run the routine\n",
    "run_routine = True\n",
    "\n",
    "# Run the function\n",
    "if run_routine:\n",
    "    \n",
    "    # Run the routine and capture the return values\n",
    "    data_cube, frame_params_array = read_fits_files(data_path, sub_arr1, sub_arr2)"
   ]
  },
  {
   "cell_type": "code",
   "execution_count": 50,
   "id": "c2af14a6-294e-4b63-881a-55e6d709a3d9",
   "metadata": {},
   "outputs": [
    {
     "name": "stdout",
     "output_type": "stream",
     "text": [
      "\n",
      "Total number of frames in the subarray: 32000\n",
      "\n",
      "Image cube size: (32000, 32, 32)\n"
     ]
    }
   ],
   "source": [
    "# Problem 4 part a\n",
    "# Print the number of frames in the subarray\n",
    "if frame_params_array is not None:\n",
    "    frames_in_subarray = frame_params_array[frame_params_array['frame_index'] <= tot_sub_arrs]['num_frames']\n",
    "    total_frames = np.sum(frames_in_subarray)\n",
    "    print(f\"\\nTotal number of frames in the subarray: {total_frames}\")\n",
    "\n",
    "# Print the dimensions of the image cube\n",
    "if data_cube is not None:\n",
    "    cube_size = data_cube.shape\n",
    "    print(f\"\\nImage cube size: {cube_size}\")\n"
   ]
  },
  {
   "cell_type": "code",
   "execution_count": 53,
   "id": "b8e70842-ac91-405d-8385-f8d393809506",
   "metadata": {},
   "outputs": [
    {
     "data": {
      "image/png": "[encoded data removed]",
      "text/plain": [
       "<Figure size 640x480 with 1 Axes>"
      ]
     },
     "metadata": {},
     "output_type": "display_data"
    },
    {
     "data": {
      "image/png": "[encoded data removed]",
      "text/plain": [
       "<Figure size 640x480 with 1 Axes>"
      ]
     },
     "metadata": {},
     "output_type": "display_data"
    },
    {
     "data": {
      "image/png": "[encoded data removed]",
      "text/plain": [
       "<Figure size 640x480 with 1 Axes>"
      ]
     },
     "metadata": {},
     "output_type": "display_data"
    },
    {
     "data": {
      "image/png": "[encoded data removed]",
      "text/plain": [
       "<Figure size 640x480 with 1 Axes>"
      ]
     },
     "metadata": {},
     "output_type": "display_data"
    },
    {
     "data": {
      "image/png": "[encoded data removed]",
      "text/plain": [
       "<Figure size 640x480 with 1 Axes>"
      ]
     },
     "metadata": {},
     "output_type": "display_data"
    }
   ],
   "source": [
    "# Get the first 5 frames\n",
    "first_five_frames = data_cube[:5]\n",
    "\n",
    "# Display the first 5 frames using imshow\n",
    "for i in range(len(first_five_frames)):\n",
    "    plt.imshow(first_five_frames[i, :, :], cmap='gray')\n",
    "    plt.title(f\"Frame {i + 1}\")\n",
    "    plt.show()\n"
   ]
  },
  {
   "cell_type": "code",
   "execution_count": 92,
   "id": "4707b626-fc4f-479d-8320-0987a63ae6b7",
   "metadata": {},
   "outputs": [
    {
     "name": "stdout",
     "output_type": "stream",
     "text": [
      "Problem 5\n"
     ]
    },
    {
     "ename": "UnboundLocalError",
     "evalue": "cannot access local variable 'data' where it is not associated with a value",
     "output_type": "error",
     "traceback": [
      "\u001b[1;31m---------------------------------------------------------------------------\u001b[0m",
      "\u001b[1;31mUnboundLocalError\u001b[0m                         Traceback (most recent call last)",
      "Cell \u001b[1;32mIn[92], line 10\u001b[0m\n\u001b[0;32m      5\u001b[0m run_routine \u001b[38;5;241m=\u001b[39m \u001b[38;5;28;01mTrue\u001b[39;00m\n\u001b[0;32m      7\u001b[0m \u001b[38;5;28;01mif\u001b[39;00m run_routine:\n\u001b[0;32m      8\u001b[0m \n\u001b[0;32m      9\u001b[0m     \u001b[38;5;66;03m# Run the routine and capture the return values\u001b[39;00m\n\u001b[1;32m---> 10\u001b[0m     data_cube, frame_params_array \u001b[38;5;241m=\u001b[39m \u001b[43mSF\u001b[49m\u001b[38;5;241;43m.\u001b[39;49m\u001b[43mread_and_extract_data\u001b[49m\u001b[43m(\u001b[49m\u001b[43mdata_path\u001b[49m\u001b[43m,\u001b[49m\u001b[43m \u001b[49m\u001b[43msub_arr1\u001b[49m\u001b[43m,\u001b[49m\u001b[43m \u001b[49m\u001b[43msub_arr2\u001b[49m\u001b[43m)\u001b[49m\n\u001b[0;32m     12\u001b[0m     \u001b[38;5;66;03m# Display the results using imshow()\u001b[39;00m\n\u001b[0;32m     13\u001b[0m     plt\u001b[38;5;241m.\u001b[39mimshow(data_cube, cmap\u001b[38;5;241m=\u001b[39m\u001b[38;5;124m'\u001b[39m\u001b[38;5;124mviridis\u001b[39m\u001b[38;5;124m'\u001b[39m) \n",
      "File \u001b[1;32m~\\Desktop\\ast4762\\Homework\\finalproject_abigailglover\\finalproject_abigailglover_support_functions.py:57\u001b[0m, in \u001b[0;36mread_and_extract_data\u001b[1;34m(folder_path, start_set, num_sets)\u001b[0m\n\u001b[0;32m     54\u001b[0m frame_params_array \u001b[38;5;241m=\u001b[39m np\u001b[38;5;241m.\u001b[39marray([], dtype\u001b[38;5;241m=\u001b[39m[(\u001b[38;5;124m\"\u001b[39m\u001b[38;5;124mframe_number\u001b[39m\u001b[38;5;124m\"\u001b[39m, \u001b[38;5;28mint\u001b[39m), (\u001b[38;5;124m\"\u001b[39m\u001b[38;5;124mobs_time\u001b[39m\u001b[38;5;124m\"\u001b[39m, \u001b[38;5;28mfloat\u001b[39m)])  \u001b[38;5;66;03m# Initialize outside the loop\u001b[39;00m\n\u001b[0;32m     56\u001b[0m \u001b[38;5;66;03m# Initialize the mask array to True\u001b[39;00m\n\u001b[1;32m---> 57\u001b[0m mask_array \u001b[38;5;241m=\u001b[39m np\u001b[38;5;241m.\u001b[39mones_like(\u001b[43mdata\u001b[49m, dtype\u001b[38;5;241m=\u001b[39m\u001b[38;5;28mbool\u001b[39m)\n\u001b[0;32m     59\u001b[0m \u001b[38;5;28;01mfor\u001b[39;00m i, file_name \u001b[38;5;129;01min\u001b[39;00m \u001b[38;5;28menumerate\u001b[39m(file_list[start_set \u001b[38;5;241m*\u001b[39m \u001b[38;5;241m100\u001b[39m: (start_set \u001b[38;5;241m+\u001b[39m num_sets) \u001b[38;5;241m*\u001b[39m \u001b[38;5;241m100\u001b[39m]):\n\u001b[0;32m     60\u001b[0m     file_path \u001b[38;5;241m=\u001b[39m os\u001b[38;5;241m.\u001b[39mpath\u001b[38;5;241m.\u001b[39mjoin(folder_path, file_name)\n",
      "\u001b[1;31mUnboundLocalError\u001b[0m: cannot access local variable 'data' where it is not associated with a value"
     ]
    }
   ],
   "source": []
  },
  {
   "cell_type": "code",
   "execution_count": null,
   "id": "1872fba7-d326-4d8a-93da-48d8eb31829f",
   "metadata": {},
   "outputs": [],
   "source": [
    "# Print Problem Statement\n",
    "print(\"\\nProblem 6\")\n",
    "\n",
    "# Boolean mask: set flagged pixels to 0 in the data array\n",
    "data_cube[~mask_array] = 0"
   ]
  },
  {
   "cell_type": "code",
   "execution_count": 9,
   "id": "1c37936b-1be4-473e-a489-acfc9a7f519c",
   "metadata": {},
   "outputs": [
    {
     "name": "stdout",
     "output_type": "stream",
     "text": [
      "\n",
      "Problem 7\n"
     ]
    },
    {
     "ename": "AxisError",
     "evalue": "axis 1 is out of bounds for array of dimension 0",
     "output_type": "error",
     "traceback": [
      "\u001b[1;31m---------------------------------------------------------------------------\u001b[0m",
      "\u001b[1;31mAxisError\u001b[0m                                 Traceback (most recent call last)",
      "Cell \u001b[1;32mIn[9], line 5\u001b[0m\n\u001b[0;32m      2\u001b[0m \u001b[38;5;28mprint\u001b[39m(\u001b[38;5;124m\"\u001b[39m\u001b[38;5;130;01m\\n\u001b[39;00m\u001b[38;5;124mProblem 7\u001b[39m\u001b[38;5;124m\"\u001b[39m)\n\u001b[0;32m      4\u001b[0m \u001b[38;5;66;03m# Calculate median background for each frame in the data_cube\u001b[39;00m\n\u001b[1;32m----> 5\u001b[0m median_backgrounds \u001b[38;5;241m=\u001b[39m \u001b[43mnp\u001b[49m\u001b[38;5;241;43m.\u001b[39;49m\u001b[43mmedian\u001b[49m\u001b[43m(\u001b[49m\u001b[43mdata_cube\u001b[49m\u001b[43m,\u001b[49m\u001b[43m \u001b[49m\u001b[43maxis\u001b[49m\u001b[38;5;241;43m=\u001b[39;49m\u001b[43m(\u001b[49m\u001b[38;5;241;43m1\u001b[39;49m\u001b[43m,\u001b[49m\u001b[43m \u001b[49m\u001b[38;5;241;43m2\u001b[39;49m\u001b[43m)\u001b[49m\u001b[43m)\u001b[49m\n\u001b[0;32m      7\u001b[0m \u001b[38;5;66;03m# Record median background in frame_params_array\u001b[39;00m\n\u001b[0;32m      8\u001b[0m frame_params_array[\u001b[38;5;124m\"\u001b[39m\u001b[38;5;124mmedian_background\u001b[39m\u001b[38;5;124m\"\u001b[39m] \u001b[38;5;241m=\u001b[39m median_backgrounds\n",
      "File \u001b[1;32m<__array_function__ internals>:200\u001b[0m, in \u001b[0;36mmedian\u001b[1;34m(*args, **kwargs)\u001b[0m\n",
      "File \u001b[1;32m~\\anaconda3\\Lib\\site-packages\\numpy\\lib\\function_base.py:3856\u001b[0m, in \u001b[0;36mmedian\u001b[1;34m(a, axis, out, overwrite_input, keepdims)\u001b[0m\n\u001b[0;32m   3774\u001b[0m \u001b[38;5;129m@array_function_dispatch\u001b[39m(_median_dispatcher)\n\u001b[0;32m   3775\u001b[0m \u001b[38;5;28;01mdef\u001b[39;00m \u001b[38;5;21mmedian\u001b[39m(a, axis\u001b[38;5;241m=\u001b[39m\u001b[38;5;28;01mNone\u001b[39;00m, out\u001b[38;5;241m=\u001b[39m\u001b[38;5;28;01mNone\u001b[39;00m, overwrite_input\u001b[38;5;241m=\u001b[39m\u001b[38;5;28;01mFalse\u001b[39;00m, keepdims\u001b[38;5;241m=\u001b[39m\u001b[38;5;28;01mFalse\u001b[39;00m):\n\u001b[0;32m   3776\u001b[0m \u001b[38;5;250m    \u001b[39m\u001b[38;5;124;03m\"\"\"\u001b[39;00m\n\u001b[0;32m   3777\u001b[0m \u001b[38;5;124;03m    Compute the median along the specified axis.\u001b[39;00m\n\u001b[0;32m   3778\u001b[0m \n\u001b[1;32m   (...)\u001b[0m\n\u001b[0;32m   3854\u001b[0m \n\u001b[0;32m   3855\u001b[0m \u001b[38;5;124;03m    \"\"\"\u001b[39;00m\n\u001b[1;32m-> 3856\u001b[0m     \u001b[38;5;28;01mreturn\u001b[39;00m \u001b[43m_ureduce\u001b[49m\u001b[43m(\u001b[49m\u001b[43ma\u001b[49m\u001b[43m,\u001b[49m\u001b[43m \u001b[49m\u001b[43mfunc\u001b[49m\u001b[38;5;241;43m=\u001b[39;49m\u001b[43m_median\u001b[49m\u001b[43m,\u001b[49m\u001b[43m \u001b[49m\u001b[43mkeepdims\u001b[49m\u001b[38;5;241;43m=\u001b[39;49m\u001b[43mkeepdims\u001b[49m\u001b[43m,\u001b[49m\u001b[43m \u001b[49m\u001b[43maxis\u001b[49m\u001b[38;5;241;43m=\u001b[39;49m\u001b[43maxis\u001b[49m\u001b[43m,\u001b[49m\u001b[43m \u001b[49m\u001b[43mout\u001b[49m\u001b[38;5;241;43m=\u001b[39;49m\u001b[43mout\u001b[49m\u001b[43m,\u001b[49m\n\u001b[0;32m   3857\u001b[0m \u001b[43m                    \u001b[49m\u001b[43moverwrite_input\u001b[49m\u001b[38;5;241;43m=\u001b[39;49m\u001b[43moverwrite_input\u001b[49m\u001b[43m)\u001b[49m\n",
      "File \u001b[1;32m~\\anaconda3\\Lib\\site-packages\\numpy\\lib\\function_base.py:3727\u001b[0m, in \u001b[0;36m_ureduce\u001b[1;34m(a, func, keepdims, **kwargs)\u001b[0m\n\u001b[0;32m   3725\u001b[0m nd \u001b[38;5;241m=\u001b[39m a\u001b[38;5;241m.\u001b[39mndim\n\u001b[0;32m   3726\u001b[0m \u001b[38;5;28;01mif\u001b[39;00m axis \u001b[38;5;129;01mis\u001b[39;00m \u001b[38;5;129;01mnot\u001b[39;00m \u001b[38;5;28;01mNone\u001b[39;00m:\n\u001b[1;32m-> 3727\u001b[0m     axis \u001b[38;5;241m=\u001b[39m \u001b[43m_nx\u001b[49m\u001b[38;5;241;43m.\u001b[39;49m\u001b[43mnormalize_axis_tuple\u001b[49m\u001b[43m(\u001b[49m\u001b[43maxis\u001b[49m\u001b[43m,\u001b[49m\u001b[43m \u001b[49m\u001b[43mnd\u001b[49m\u001b[43m)\u001b[49m\n\u001b[0;32m   3729\u001b[0m     \u001b[38;5;28;01mif\u001b[39;00m keepdims:\n\u001b[0;32m   3730\u001b[0m         \u001b[38;5;28;01mif\u001b[39;00m out \u001b[38;5;129;01mis\u001b[39;00m \u001b[38;5;129;01mnot\u001b[39;00m \u001b[38;5;28;01mNone\u001b[39;00m:\n",
      "File \u001b[1;32m~\\anaconda3\\Lib\\site-packages\\numpy\\core\\numeric.py:1398\u001b[0m, in \u001b[0;36mnormalize_axis_tuple\u001b[1;34m(axis, ndim, argname, allow_duplicate)\u001b[0m\n\u001b[0;32m   1396\u001b[0m         \u001b[38;5;28;01mpass\u001b[39;00m\n\u001b[0;32m   1397\u001b[0m \u001b[38;5;66;03m# Going via an iterator directly is slower than via list comprehension.\u001b[39;00m\n\u001b[1;32m-> 1398\u001b[0m axis \u001b[38;5;241m=\u001b[39m \u001b[38;5;28mtuple\u001b[39m(\u001b[43m[\u001b[49m\u001b[43mnormalize_axis_index\u001b[49m\u001b[43m(\u001b[49m\u001b[43max\u001b[49m\u001b[43m,\u001b[49m\u001b[43m \u001b[49m\u001b[43mndim\u001b[49m\u001b[43m,\u001b[49m\u001b[43m \u001b[49m\u001b[43margname\u001b[49m\u001b[43m)\u001b[49m\u001b[43m \u001b[49m\u001b[38;5;28;43;01mfor\u001b[39;49;00m\u001b[43m \u001b[49m\u001b[43max\u001b[49m\u001b[43m \u001b[49m\u001b[38;5;129;43;01min\u001b[39;49;00m\u001b[43m \u001b[49m\u001b[43maxis\u001b[49m\u001b[43m]\u001b[49m)\n\u001b[0;32m   1399\u001b[0m \u001b[38;5;28;01mif\u001b[39;00m \u001b[38;5;129;01mnot\u001b[39;00m allow_duplicate \u001b[38;5;129;01mand\u001b[39;00m \u001b[38;5;28mlen\u001b[39m(\u001b[38;5;28mset\u001b[39m(axis)) \u001b[38;5;241m!=\u001b[39m \u001b[38;5;28mlen\u001b[39m(axis):\n\u001b[0;32m   1400\u001b[0m     \u001b[38;5;28;01mif\u001b[39;00m argname:\n",
      "File \u001b[1;32m~\\anaconda3\\Lib\\site-packages\\numpy\\core\\numeric.py:1398\u001b[0m, in \u001b[0;36m<listcomp>\u001b[1;34m(.0)\u001b[0m\n\u001b[0;32m   1396\u001b[0m         \u001b[38;5;28;01mpass\u001b[39;00m\n\u001b[0;32m   1397\u001b[0m \u001b[38;5;66;03m# Going via an iterator directly is slower than via list comprehension.\u001b[39;00m\n\u001b[1;32m-> 1398\u001b[0m axis \u001b[38;5;241m=\u001b[39m \u001b[38;5;28mtuple\u001b[39m([\u001b[43mnormalize_axis_index\u001b[49m\u001b[43m(\u001b[49m\u001b[43max\u001b[49m\u001b[43m,\u001b[49m\u001b[43m \u001b[49m\u001b[43mndim\u001b[49m\u001b[43m,\u001b[49m\u001b[43m \u001b[49m\u001b[43margname\u001b[49m\u001b[43m)\u001b[49m \u001b[38;5;28;01mfor\u001b[39;00m ax \u001b[38;5;129;01min\u001b[39;00m axis])\n\u001b[0;32m   1399\u001b[0m \u001b[38;5;28;01mif\u001b[39;00m \u001b[38;5;129;01mnot\u001b[39;00m allow_duplicate \u001b[38;5;129;01mand\u001b[39;00m \u001b[38;5;28mlen\u001b[39m(\u001b[38;5;28mset\u001b[39m(axis)) \u001b[38;5;241m!=\u001b[39m \u001b[38;5;28mlen\u001b[39m(axis):\n\u001b[0;32m   1400\u001b[0m     \u001b[38;5;28;01mif\u001b[39;00m argname:\n",
      "\u001b[1;31mAxisError\u001b[0m: axis 1 is out of bounds for array of dimension 0"
     ]
    }
   ],
   "source": [
    "# Print Problem Statement\n",
    "print(\"\\nProblem 7\")\n",
    "\n",
    "# Calculate median background for each frame in the data_cube\n",
    "median_backgrounds = np.median(data_cube, axis=(1, 2))\n",
    "\n",
    "# Record median background in frame_params_array\n",
    "frame_params_array[\"median_background\"] = median_backgrounds\n",
    "\n",
    "# Subtract median background from each frame in the data_cube\n",
    "data_cube -= median_backgrounds[:, np.newaxis, np.newaxis]\n",
    "\n",
    "# Plot median background vs frame number\n",
    "plt.plot(frame_params_array[\"frame_number\"], frame_params_array[\"median_background\"], marker='o')\n",
    "plt.title(\"Median Background vs. Frame Number\")\n",
    "plt.xlabel(\"Frame Number\")\n",
    "plt.ylabel(\"Median Background\")\n",
    "plt.show()"
   ]
  },
  {
   "cell_type": "code",
   "execution_count": null,
   "id": "9cc90127-3b35-404f-9ced-dbc95baf2e80",
   "metadata": {},
   "outputs": [],
   "source": [
    "# Print Problem Statement\n",
    "print('\\nProblem 8')\n",
    "\n"
   ]
  }
 ],
 "metadata": {
  "kernelspec": {
   "display_name": "Python 3 (ipykernel)",
   "language": "python",
   "name": "python3"
  },
  "language_info": {
   "codemirror_mode": {
    "name": "ipython",
    "version": 3
   },
   "file_extension": ".py",
   "mimetype": "text/x-python",
   "name": "python",
   "nbconvert_exporter": "python",
   "pygments_lexer": "ipython3",
   "version": "3.11.4"
  }
 },
 "nbformat": 4,
 "nbformat_minor": 5
}
