{
 "cells": [
  {
   "cell_type": "code",
   "execution_count": 12,
   "id": "ff9f4f92-1e85-4d11-a63a-fcc51eef5947",
   "metadata": {},
   "outputs": [
    {
     "name": "stdout",
     "output_type": "stream",
     "text": [
      "z =  0.3125 ±  0.0218\n",
      "z =  3.8000 ±  0.8944\n"
     ]
    }
   ],
   "source": [
    "import numpy as np\n",
    "\n",
    "# Part a\n",
    "# Given\n",
    "x = 3.2\n",
    "dx = 0.1\n",
    "y = 3.2\n",
    "dy = 0.1\n",
    "\n",
    "# Given z\n",
    "z = x / (y**2)\n",
    "\n",
    "# Differentiate in terms of x\n",
    "dz_dx = 1 / (y**2)\n",
    "\n",
    "# Differentiate in terms of y\n",
    "dz_dy = -2 * x / (y**3)\n",
    "\n",
    "# Calculate the uncertainty in z\n",
    "dz = (dz_dx * dx)**2 + (dz_dy * dy)**2\n",
    "dz = dz**0.5\n",
    "\n",
    "# Print the result\n",
    "print(f\"z = {z : .4f} ± {dz : .4f}\")\n",
    "\n",
    "# Part b\n",
    "# Given\n",
    "x = 5.5\n",
    "dx = 0.4\n",
    "y = 1.7\n",
    "dy = 0.8\n",
    "\n",
    "# Given z\n",
    "z = x - y\n",
    "\n",
    "# Differentiate in terms of x\n",
    "dz_dx = 1\n",
    "\n",
    "# Differentiate in terms of y\n",
    "dz_dy = -1\n",
    "\n",
    "# Calculate the uncertainty in z\n",
    "dz = (dz_dx * dx)**2 + (dz_dy * dy)**2\n",
    "dz = (dz)**0.5\n",
    "\n",
    "# Print the result\n",
    "print(f\"z = {z : .4f} ± {dz : .4f}\")"
   ]
  },
  {
   "cell_type": "code",
   "execution_count": null,
   "id": "81bd66d5-1b51-42fb-bb95-cc6af1003fb7",
   "metadata": {},
   "outputs": [],
   "source": []
  }
 ],
 "metadata": {
  "kernelspec": {
   "display_name": "Python 3 (ipykernel)",
   "language": "python",
   "name": "python3"
  },
  "language_info": {
   "codemirror_mode": {
    "name": "ipython",
    "version": 3
   },
   "file_extension": ".py",
   "mimetype": "text/x-python",
   "name": "python",
   "nbconvert_exporter": "python",
   "pygments_lexer": "ipython3",
   "version": "3.11.4"
  }
 },
 "nbformat": 4,
 "nbformat_minor": 5
}
