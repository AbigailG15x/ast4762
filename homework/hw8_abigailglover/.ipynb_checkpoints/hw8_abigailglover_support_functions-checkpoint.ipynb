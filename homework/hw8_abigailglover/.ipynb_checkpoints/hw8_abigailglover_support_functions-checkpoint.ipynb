{
 "cells": [
  {
   "cell_type": "code",
   "execution_count": 3,
   "id": "b141e2ed-4f65-4881-a8f0-b5d66f105b2f",
   "metadata": {},
   "outputs": [
    {
     "name": "stdout",
     "output_type": "stream",
     "text": [
      "Pixel value at [14, 14]: True\n",
      "Pixel value at [2, 1]: False\n"
     ]
    }
   ],
   "source": [
    "import numpy as np\n",
    "from astropy.io import fits\n",
    "'''\n",
    "    Generates a 2D mask array with a disk image.\n",
    "\n",
    "    This function creates a 2D mask array with \n",
    "    True values for each pixel whose center is \n",
    "    within a specified radius from the given \n",
    "    position and False elsewhere.\n",
    "\n",
    "    Parameters\n",
    "    ----------\n",
    "    radius: The radius of the disk.\n",
    "    \n",
    "    center: A 2-element tuple specifying the \n",
    "    center of the disk as (y, x).\n",
    "    \n",
    "    shape: A 2-element tuple specifying the \n",
    "    shape of the output image as (y, x).\n",
    "\n",
    "    Returns\n",
    "    ----------\n",
    "    mask: A 2D mask array representing the disk \n",
    "    image, where True pixels are inside the disk, \n",
    "    and False pixels are outside.\n",
    "'''\n",
    "\n",
    "def disk(radius, center, shape):\n",
    "    y, x = np.ogrid[:shape[0], :shape[1]]\n",
    "    dist_from_center = np.sqrt((y - center[0])**2 + (x - center[1])**2)\n",
    "    mask = dist_from_center <= radius\n",
    "    return mask\n",
    "\n",
    "# Define parameters\n",
    "radius = 6.2\n",
    "center = (12.3, 14.5)\n",
    "image_shape = (25, 30)\n",
    "\n",
    "# Generate the disk mask\n",
    "mask = disk(radius, center, image_shape)\n",
    "\n",
    "# Store the mask in a FITS file\n",
    "fits.writeto(\"disktest.fits\", mask.astype(int), overwrite=True)\n",
    "\n",
    "# Print the values of pixel indices [14, 14] and [2, 1]\n",
    "print(\"Pixel value at [14, 14]:\", mask[14, 14])\n",
    "print(\"Pixel value at [2, 1]:\", mask[2, 1])"
   ]
  },
  {
   "cell_type": "code",
   "execution_count": null,
   "id": "06a561d0-0e19-441b-a573-b02864313999",
   "metadata": {},
   "outputs": [],
   "source": []
  }
 ],
 "metadata": {
  "kernelspec": {
   "display_name": "Python 3 (ipykernel)",
   "language": "python",
   "name": "python3"
  },
  "language_info": {
   "codemirror_mode": {
    "name": "ipython",
    "version": 3
   },
   "file_extension": ".py",
   "mimetype": "text/x-python",
   "name": "python",
   "nbconvert_exporter": "python",
   "pygments_lexer": "ipython3",
   "version": "3.11.4"
  }
 },
 "nbformat": 4,
 "nbformat_minor": 5
}
